{
 "cells": [
  {
   "cell_type": "code",
   "execution_count": 21,
   "id": "4d319443",
   "metadata": {
    "scrolled": true
   },
   "outputs": [],
   "source": [
    "import pandas as pd\n",
    "import regex as re\n",
    "\n",
    "import numpy as np\n",
    "\n",
    "import time\n",
    "import datetime\n",
    "from datetime import date, timedelta, datetime\n",
    "from dateutil.relativedelta import relativedelta\n",
    "import random\n",
    "\n",
    "import winsound\n",
    "\n",
    "\n",
    "import requests\n",
    "from bs4 import BeautifulSoup\n",
    "from selenium import webdriver\n",
    "from webdriver_manager.chrome import ChromeDriverManager\n",
    "from selenium.webdriver.common import keys\n",
    "from selenium import webdriver \n",
    "import chromedriver_autoinstaller\n",
    "from utils.functions import google_news_urls_by_date\n",
    "from selenium.webdriver.support.ui import WebDriverWait\n",
    "from selenium.webdriver.support import expected_conditions as EC\n",
    "from selenium.webdriver.common.by import By\n",
    "from selenium.webdriver.common.action_chains import ActionChains\n",
    "from fake_useragent import UserAgent\n",
    "\n",
    "import pywhisper\n"
   ]
  },
  {
   "cell_type": "code",
   "execution_count": null,
   "id": "dd1d1a87",
   "metadata": {},
   "outputs": [],
   "source": [
    "import os\n",
    "\n",
    "os.path.exists(r'C:\\Users\\Han\\Desktop\\Python\\ML_Sentimiento_activos_financieros\\captcha_validation')"
   ]
  },
  {
   "cell_type": "code",
   "execution_count": null,
   "id": "7b26a96c",
   "metadata": {},
   "outputs": [],
   "source": [
    "import vlc\n",
    "p = vlc.MediaPlayer(\"https://www.google.com/recaptcha/api2/payload/audio.mp3?p=06AFY_a8W2OiLQOr6TCJJZ-jNTRHJQIY-28KIL1RQxKvHn77SM9GogqRosIl_VcrngFD8tas-WBGEvxrQDZwoSWMc2HfuSP7kyUcYXEoEWGFnicJdIMV827XZottUSY_rHZz8pSGx_iRVnPA84cOclroMUhMV23OBtfyX-CHAdiBLy7q6H5WrOf0Gr7kQyfYcbWw3EH4nDcNtE&k=6LfwuyUTAAAAAOAmoS0fdqijC2PbbdH4kjq62Y1b\")\n",
    "p.\n",
    "p.play()"
   ]
  },
  {
   "cell_type": "code",
   "execution_count": null,
   "id": "876e5b85",
   "metadata": {},
   "outputs": [],
   "source": [
    "requests.get()\n",
    "with open('captcha.mp3', 'wb') as f:\n",
    "        f.write(r'C:\\Users\\Han\\Desktop\\Python\\ML_Sentimiento_activos_financieros\\captcha_validation')"
   ]
  },
  {
   "cell_type": "code",
   "execution_count": 16,
   "id": "37542955",
   "metadata": {},
   "outputs": [],
   "source": [
    "import pywhisper\n",
    "\n",
    "model = pywhisper.load_model(\"large\")\n",
    "#result = model.transcribe('data/Civit.mp3', task='transcribe', language=\"es\",verbose=True)\n",
    "#print(result[\"text\"])"
   ]
  },
  {
   "cell_type": "code",
   "execution_count": 20,
   "id": "4f004c27",
   "metadata": {},
   "outputs": [
    {
     "ename": "HTTPError",
     "evalue": "HTTP Error 400: Bad Request",
     "output_type": "error",
     "traceback": [
      "\u001b[1;31m---------------------------------------------------------------------------\u001b[0m",
      "\u001b[1;31mHTTPError\u001b[0m                                 Traceback (most recent call last)",
      "Cell \u001b[1;32mIn[20], line 6\u001b[0m\n\u001b[0;32m      4\u001b[0m url \u001b[38;5;241m=\u001b[39m \u001b[38;5;124m'\u001b[39m\u001b[38;5;124mhttps://www.google.com/recaptcha/api2/payload/audio.mp3?p=06AFY_a8Vb6tGZY6HkLoHGHgk23ROB1pv0gFwnzuI2WqRqxmgF7wS2iGyJyd2pfJbcYsVP6Vjy67vVGtP8D1Qp2mpfYi-7a_rfivpXyI92aPvSM2kLAUbwIhQKZlH1VP23y5WsczLhcOxf0uNMc7mn2yTRhTBawRsYPZ7xrLjs_xHWawgyl_KQvcrAY7X16keRLD9ttvHCAaQV&amp;k=6LfwuyUTAAAAAOAmoS0fdqijC2PbbdH4kjq62Y1b\u001b[39m\u001b[38;5;124m'\u001b[39m\n\u001b[0;32m      5\u001b[0m u \u001b[38;5;241m=\u001b[39m url\n\u001b[1;32m----> 6\u001b[0m \u001b[43murllib\u001b[49m\u001b[38;5;241;43m.\u001b[39;49m\u001b[43mrequest\u001b[49m\u001b[38;5;241;43m.\u001b[39;49m\u001b[43murlretrieve\u001b[49m\u001b[43m(\u001b[49m\u001b[43murl\u001b[49m\u001b[43m,\u001b[49m\u001b[43m \u001b[49m\u001b[38;5;124;43m\"\u001b[39;49m\u001b[38;5;124;43mmp3.mp3\u001b[39;49m\u001b[38;5;124;43m\"\u001b[39;49m\u001b[43m)\u001b[49m\n",
      "File \u001b[1;32m~\\.conda\\envs\\sentiment\\lib\\urllib\\request.py:241\u001b[0m, in \u001b[0;36murlretrieve\u001b[1;34m(url, filename, reporthook, data)\u001b[0m\n\u001b[0;32m    224\u001b[0m \u001b[38;5;124;03m\"\"\"\u001b[39;00m\n\u001b[0;32m    225\u001b[0m \u001b[38;5;124;03mRetrieve a URL into a temporary location on disk.\u001b[39;00m\n\u001b[0;32m    226\u001b[0m \n\u001b[1;32m   (...)\u001b[0m\n\u001b[0;32m    237\u001b[0m \u001b[38;5;124;03mdata file as well as the resulting HTTPMessage object.\u001b[39;00m\n\u001b[0;32m    238\u001b[0m \u001b[38;5;124;03m\"\"\"\u001b[39;00m\n\u001b[0;32m    239\u001b[0m url_type, path \u001b[38;5;241m=\u001b[39m _splittype(url)\n\u001b[1;32m--> 241\u001b[0m \u001b[38;5;28;01mwith\u001b[39;00m contextlib\u001b[38;5;241m.\u001b[39mclosing(\u001b[43murlopen\u001b[49m\u001b[43m(\u001b[49m\u001b[43murl\u001b[49m\u001b[43m,\u001b[49m\u001b[43m \u001b[49m\u001b[43mdata\u001b[49m\u001b[43m)\u001b[49m) \u001b[38;5;28;01mas\u001b[39;00m fp:\n\u001b[0;32m    242\u001b[0m     headers \u001b[38;5;241m=\u001b[39m fp\u001b[38;5;241m.\u001b[39minfo()\n\u001b[0;32m    244\u001b[0m     \u001b[38;5;66;03m# Just return the local path and the \"headers\" for file://\u001b[39;00m\n\u001b[0;32m    245\u001b[0m     \u001b[38;5;66;03m# URLs. No sense in performing a copy unless requested.\u001b[39;00m\n",
      "File \u001b[1;32m~\\.conda\\envs\\sentiment\\lib\\urllib\\request.py:216\u001b[0m, in \u001b[0;36murlopen\u001b[1;34m(url, data, timeout, cafile, capath, cadefault, context)\u001b[0m\n\u001b[0;32m    214\u001b[0m \u001b[38;5;28;01melse\u001b[39;00m:\n\u001b[0;32m    215\u001b[0m     opener \u001b[38;5;241m=\u001b[39m _opener\n\u001b[1;32m--> 216\u001b[0m \u001b[38;5;28;01mreturn\u001b[39;00m \u001b[43mopener\u001b[49m\u001b[38;5;241;43m.\u001b[39;49m\u001b[43mopen\u001b[49m\u001b[43m(\u001b[49m\u001b[43murl\u001b[49m\u001b[43m,\u001b[49m\u001b[43m \u001b[49m\u001b[43mdata\u001b[49m\u001b[43m,\u001b[49m\u001b[43m \u001b[49m\u001b[43mtimeout\u001b[49m\u001b[43m)\u001b[49m\n",
      "File \u001b[1;32m~\\.conda\\envs\\sentiment\\lib\\urllib\\request.py:525\u001b[0m, in \u001b[0;36mOpenerDirector.open\u001b[1;34m(self, fullurl, data, timeout)\u001b[0m\n\u001b[0;32m    523\u001b[0m \u001b[38;5;28;01mfor\u001b[39;00m processor \u001b[38;5;129;01min\u001b[39;00m \u001b[38;5;28mself\u001b[39m\u001b[38;5;241m.\u001b[39mprocess_response\u001b[38;5;241m.\u001b[39mget(protocol, []):\n\u001b[0;32m    524\u001b[0m     meth \u001b[38;5;241m=\u001b[39m \u001b[38;5;28mgetattr\u001b[39m(processor, meth_name)\n\u001b[1;32m--> 525\u001b[0m     response \u001b[38;5;241m=\u001b[39m \u001b[43mmeth\u001b[49m\u001b[43m(\u001b[49m\u001b[43mreq\u001b[49m\u001b[43m,\u001b[49m\u001b[43m \u001b[49m\u001b[43mresponse\u001b[49m\u001b[43m)\u001b[49m\n\u001b[0;32m    527\u001b[0m \u001b[38;5;28;01mreturn\u001b[39;00m response\n",
      "File \u001b[1;32m~\\.conda\\envs\\sentiment\\lib\\urllib\\request.py:634\u001b[0m, in \u001b[0;36mHTTPErrorProcessor.http_response\u001b[1;34m(self, request, response)\u001b[0m\n\u001b[0;32m    631\u001b[0m \u001b[38;5;66;03m# According to RFC 2616, \"2xx\" code indicates that the client's\u001b[39;00m\n\u001b[0;32m    632\u001b[0m \u001b[38;5;66;03m# request was successfully received, understood, and accepted.\u001b[39;00m\n\u001b[0;32m    633\u001b[0m \u001b[38;5;28;01mif\u001b[39;00m \u001b[38;5;129;01mnot\u001b[39;00m (\u001b[38;5;241m200\u001b[39m \u001b[38;5;241m<\u001b[39m\u001b[38;5;241m=\u001b[39m code \u001b[38;5;241m<\u001b[39m \u001b[38;5;241m300\u001b[39m):\n\u001b[1;32m--> 634\u001b[0m     response \u001b[38;5;241m=\u001b[39m \u001b[38;5;28;43mself\u001b[39;49m\u001b[38;5;241;43m.\u001b[39;49m\u001b[43mparent\u001b[49m\u001b[38;5;241;43m.\u001b[39;49m\u001b[43merror\u001b[49m\u001b[43m(\u001b[49m\n\u001b[0;32m    635\u001b[0m \u001b[43m        \u001b[49m\u001b[38;5;124;43m'\u001b[39;49m\u001b[38;5;124;43mhttp\u001b[39;49m\u001b[38;5;124;43m'\u001b[39;49m\u001b[43m,\u001b[49m\u001b[43m \u001b[49m\u001b[43mrequest\u001b[49m\u001b[43m,\u001b[49m\u001b[43m \u001b[49m\u001b[43mresponse\u001b[49m\u001b[43m,\u001b[49m\u001b[43m \u001b[49m\u001b[43mcode\u001b[49m\u001b[43m,\u001b[49m\u001b[43m \u001b[49m\u001b[43mmsg\u001b[49m\u001b[43m,\u001b[49m\u001b[43m \u001b[49m\u001b[43mhdrs\u001b[49m\u001b[43m)\u001b[49m\n\u001b[0;32m    637\u001b[0m \u001b[38;5;28;01mreturn\u001b[39;00m response\n",
      "File \u001b[1;32m~\\.conda\\envs\\sentiment\\lib\\urllib\\request.py:563\u001b[0m, in \u001b[0;36mOpenerDirector.error\u001b[1;34m(self, proto, *args)\u001b[0m\n\u001b[0;32m    561\u001b[0m \u001b[38;5;28;01mif\u001b[39;00m http_err:\n\u001b[0;32m    562\u001b[0m     args \u001b[38;5;241m=\u001b[39m (\u001b[38;5;28mdict\u001b[39m, \u001b[38;5;124m'\u001b[39m\u001b[38;5;124mdefault\u001b[39m\u001b[38;5;124m'\u001b[39m, \u001b[38;5;124m'\u001b[39m\u001b[38;5;124mhttp_error_default\u001b[39m\u001b[38;5;124m'\u001b[39m) \u001b[38;5;241m+\u001b[39m orig_args\n\u001b[1;32m--> 563\u001b[0m     \u001b[38;5;28;01mreturn\u001b[39;00m \u001b[38;5;28;43mself\u001b[39;49m\u001b[38;5;241;43m.\u001b[39;49m\u001b[43m_call_chain\u001b[49m\u001b[43m(\u001b[49m\u001b[38;5;241;43m*\u001b[39;49m\u001b[43margs\u001b[49m\u001b[43m)\u001b[49m\n",
      "File \u001b[1;32m~\\.conda\\envs\\sentiment\\lib\\urllib\\request.py:496\u001b[0m, in \u001b[0;36mOpenerDirector._call_chain\u001b[1;34m(self, chain, kind, meth_name, *args)\u001b[0m\n\u001b[0;32m    494\u001b[0m \u001b[38;5;28;01mfor\u001b[39;00m handler \u001b[38;5;129;01min\u001b[39;00m handlers:\n\u001b[0;32m    495\u001b[0m     func \u001b[38;5;241m=\u001b[39m \u001b[38;5;28mgetattr\u001b[39m(handler, meth_name)\n\u001b[1;32m--> 496\u001b[0m     result \u001b[38;5;241m=\u001b[39m \u001b[43mfunc\u001b[49m\u001b[43m(\u001b[49m\u001b[38;5;241;43m*\u001b[39;49m\u001b[43margs\u001b[49m\u001b[43m)\u001b[49m\n\u001b[0;32m    497\u001b[0m     \u001b[38;5;28;01mif\u001b[39;00m result \u001b[38;5;129;01mis\u001b[39;00m \u001b[38;5;129;01mnot\u001b[39;00m \u001b[38;5;28;01mNone\u001b[39;00m:\n\u001b[0;32m    498\u001b[0m         \u001b[38;5;28;01mreturn\u001b[39;00m result\n",
      "File \u001b[1;32m~\\.conda\\envs\\sentiment\\lib\\urllib\\request.py:643\u001b[0m, in \u001b[0;36mHTTPDefaultErrorHandler.http_error_default\u001b[1;34m(self, req, fp, code, msg, hdrs)\u001b[0m\n\u001b[0;32m    642\u001b[0m \u001b[38;5;28;01mdef\u001b[39;00m \u001b[38;5;21mhttp_error_default\u001b[39m(\u001b[38;5;28mself\u001b[39m, req, fp, code, msg, hdrs):\n\u001b[1;32m--> 643\u001b[0m     \u001b[38;5;28;01mraise\u001b[39;00m HTTPError(req\u001b[38;5;241m.\u001b[39mfull_url, code, msg, hdrs, fp)\n",
      "\u001b[1;31mHTTPError\u001b[0m: HTTP Error 400: Bad Request"
     ]
    }
   ],
   "source": [
    "\n",
    "from urllib.request import urlopen\n",
    "import urllib\n",
    "\n",
    "url = 'https://www.google.com/recaptcha/api2/payload/audio.mp3?p=06AFY_a8Vb6tGZY6HkLoHGHgk23ROB1pv0gFwnzuI2WqRqxmgF7wS2iGyJyd2pfJbcYsVP6Vjy67vVGtP8D1Qp2mpfYi-7a_rfivpXyI92aPvSM2kLAUbwIhQKZlH1VP23y5WsczLhcOxf0uNMc7mn2yTRhTBawRsYPZ7xrLjs_xHWawgyl_KQvcrAY7X16keRLD9ttvHCAaQV&amp;k=6LfwuyUTAAAAAOAmoS0fdqijC2PbbdH4kjq62Y1b'\n",
    "u = url\n",
    "urllib.request.urlretrieve(url, \"mp3.mp3\")"
   ]
  },
  {
   "cell_type": "code",
   "execution_count": null,
   "id": "19684982",
   "metadata": {},
   "outputs": [],
   "source": [
    "https://www.google.com/recaptcha/api2/payload/audio.mp3?p=06AFY_a8W8ZBx6aTMFyDohSFG6WJgIkECTgrxl5iuZm2OSLBFJW4ZIwkCcSKV6CDc21mxrQEbYeJMKVykC8C1lvHfmzvG0-G4Me-m-ST4fFHy-qRhxcK2gLVAOYe5WHToMvx5iDiboCbUNnbqwQhu5pPBCs9vwvLfw8JWGIeDx2UhSOoU9glADmqAv79V8DcbLNorbDQ_-2LGC&amp;k=6LfwuyUTAAAAAOAmoS0fdqijC2PbbdH4kjq62Y1b"
   ]
  },
  {
   "cell_type": "code",
   "execution_count": null,
   "id": "104e36f2",
   "metadata": {},
   "outputs": [],
   "source": []
  },
  {
   "cell_type": "code",
   "execution_count": null,
   "id": "7c59661e",
   "metadata": {},
   "outputs": [],
   "source": []
  },
  {
   "cell_type": "code",
   "execution_count": null,
   "id": "14faaea5",
   "metadata": {
    "scrolled": true
   },
   "outputs": [],
   "source": [
    "chromedriver_autoinstaller.install() \n",
    "driver = webdriver.Chrome()"
   ]
  },
  {
   "cell_type": "markdown",
   "id": "90448703",
   "metadata": {},
   "source": []
  },
  {
   "cell_type": "code",
   "execution_count": 2,
   "id": "da028594",
   "metadata": {},
   "outputs": [],
   "source": [
    "'''import undetected_chromedriver as uc\n",
    "\n",
    "def google_news_crawling(tickers=[]):\n",
    "    \n",
    "    chromedriver_autoinstaller.install() \n",
    "    options = webdriver.ChromeOptions()\n",
    "    options.add_argument(\"--disable-gpu\")\n",
    "    options.add_argument(\"--disable-dev-shm-usage\")\n",
    "    options.add_argument(\"--disable-blink-features\")\n",
    "    options.add_argument(\"--disable-blink-features=AutomationControlled\")\n",
    "    options.add_argument('--start-maximized')\n",
    "    #options.add_argument('--incognito')\n",
    "    #options.add_argument(\"disable-infobars\")\n",
    "    #options.add_argument(\"--disable-extensions\")\n",
    "    options.add_experimental_option(\"excludeSwitches\", [\"enable-automation\"]) \n",
    "    options.add_experimental_option(\"useAutomationExtension\", False) \n",
    "    \n",
    "    driver = webdriver.Chrome(options=options) \n",
    "    driver.execute_script(\"Object.defineProperty(navigator, 'webdriver', {get: () => undefined})\") \n",
    "    driver.execute_cdp_cmd(\"Network.setUserAgentOverride\", {\"userAgent\": 'Mozilla/5.0 (X11; Linux x86_64) AppleWebKit/537.36 (KHTML, like Gecko) Chrome/44.0.2403.157 Safari/537.36'})\n",
    "\n",
    "    url_list = google_news_urls_by_date(website='finance.yahoo.com',\n",
    "                        ticker='aapl',\n",
    "                        start_date= (datetime.now() - relativedelta(years=3)).date())\n",
    "    \n",
    "    # La lista de url está por orden de fecha, la desordeno para despistar a Google.\n",
    "    random.shuffle(url_list)\n",
    "    \n",
    "    #Lo mismo con los user_agents.\n",
    "    user_agents = ([\"Mozilla/5.0 (X11; Linux x86_64) AppleWebKit/537.36 (KHTML, like Gecko) Chrome/44.0.2403.157 Safari/537.36\",\n",
    "                    \"Mozilla/5.0 (X11; Ubuntu; Linux i686; rv:24.0) Gecko/20100101 Firefox/24.0\",\n",
    "                    \"Mozilla/5.0 (Macintosh; Intel Mac OS X 10_15_5) AppleWebKit/605.1.15 (KHTML, like Gecko) Version/13.1.1 Safari/605.1.15\",\n",
    "                    \"Mozilla/5.0 (Windows NT 10.0; Win64; x64; rv:77.0) Gecko/20100101 Firefox/77.0\",\n",
    "                    \"Mozilla/5.0 (Macintosh; Intel Mac OS X 10_15_5) AppleWebKit/537.36 (KHTML, like Gecko) Chrome/83.0.4103.97 Safari/537.36\",\n",
    "                    \"Mozilla/5.0 (X11; Linux i586; rv:31.0) Gecko/20100101 Firefox/31.0\",\n",
    "                    \"Mozilla/5.0 (Windows NT 10.0; Win64; x64) AppleWebKit/537.36 (KHTML, like Gecko) Chrome/83.0.4103.97 Safari/537.36\",\n",
    "                    \"Mozilla/5.0 (Windows Phone 10.0; Android 4.2.1; Microsoft; Lumia 640 XL LTE) AppleWebKit/537.36 (KHTML, like Gecko) Chrome/42.0.2311.135 Mobile Safari/537.36 Edge/12.10166\"])\n",
    "    \n",
    "    #Primera ejecución, pantalla cookies:\n",
    "    driver.get(url_list[0][1])\n",
    "    get_url = driver.current_url\n",
    "    time.sleep(np.random.uniform(low=5.12,high=7.324))\n",
    "    \n",
    "    if 'consent.google.com' in get_url: \n",
    "        driver.find_element('xpath','/html/body/div[2]/div[2]/form[2]/input[12]').click()\n",
    "\n",
    "        # *****PONER EL SETTING DE GOOGLE EN INGLES*****\n",
    "    \n",
    "    # WHISPER para pasar el captcha de Google\n",
    "    def saveFile(content,filename):\n",
    "        with open(filename, \"wb\") as handle:\n",
    "            for data in content.iter_content():\n",
    "                handle.write(data)\n",
    "        \n",
    "    yf_links = []\n",
    "    \n",
    "    for ticker in tickers:\n",
    "        \n",
    "        rand_sleep = time.sleep(np.random.uniform(low=2,high= 4))\n",
    "        \n",
    "        for date,url in url_list:\n",
    "            #user_agent = random.choice(user_agents)\n",
    "            #print(user_agent)\n",
    "            ua = UserAgent()\n",
    "            userAgent = ua.random\n",
    "            print(userAgent)\n",
    "            driver.execute_cdp_cmd(\"Network.setUserAgentOverride\", {\"userAgent\": userAgent})\n",
    "            driver.get(url)\n",
    "            \n",
    "            get_url = driver.current_url\n",
    "            \n",
    "            # GESTIÓN CAPTCHA\n",
    "            \n",
    "            if 'google.com/sorry/' in get_url:\n",
    "                rand_sleep\n",
    "                duration = 1000  # milliseconds\n",
    "                freq = 200  # Hz\n",
    "                #winsound.Beep(freq, duration)\n",
    "                \n",
    "                # Botón (I'm not a robot)\n",
    "                driver.switch_to.frame(driver.find_element(By.XPATH,'//*[@id=\"recaptcha\"]/div/div/iframe'))\n",
    "                rand_sleep\n",
    "                driver.find_element('xpath','//*[@id=\"recaptcha-anchor\"]/div[1]').click()\n",
    "                \n",
    "                # Botón (Get an audio challenge)\n",
    "                rand_sleep\n",
    "                driver.switch_to.default_content()\n",
    "                time.sleep(np.random.uniform(low=6.12,high= 10.324))\n",
    "                driver.switch_to.frame(driver.find_element(By.XPATH, '/html/body/div[2]/div[4]/iframe'))\n",
    "                time.sleep(np.random.uniform(low=3.12,high= 10.324))\n",
    "                driver.find_element(By.XPATH, '//*[@id=\"rc-imageselect\"]/div[3]/div[2]/div[1]/div[1]/div[2]').click()\n",
    "                #actions = ActionChains(driver)\n",
    "                #actions.move_to_element(element)\n",
    "                #time.sleep(np.random.uniform(low=0.3,high= 0.5))\n",
    "                #actions.click(element)\n",
    "                #actions.perform()\n",
    "                \n",
    "                \n",
    "                #driver.find_element(By.XPATH, '//*[@id=\"rc-imageselect\"]/div[3]/div[2]/div[1]/div[1]/div[2]').click()\n",
    "                '''\n",
    "                driver.switch_to.frame(driver.find_element(By.XPATH,'/html/body/div[2]/div[4]/iframe'))\n",
    "                rand_sleep\n",
    "                \n",
    "                WebDriverWait(driver, 10).until(EC.element_to_be_clickable((By.CSS_SELECTOR, \"button#recaptcha-audio-button\"))).click()'''\n",
    "\n",
    "                rand_sleep\n",
    "                continue\n",
    "\n",
    "            else:   \n",
    "                html = driver.page_source\n",
    "                soup = BeautifulSoup(html, 'html.parser')\n",
    "                filter_a = soup.find_all('a')\n",
    "                links = [link.get('href') for link in filter_a]\n",
    "                links_filtered = [link for link in links if link != None and 'https://finance.yahoo.com/news/' in link]\n",
    "                # Filtro links de YF y limpio \n",
    "                for link in links_filtered:\n",
    "                    link = re.search(r'https://(.*?).html',link).group()\n",
    "                    yf_links.append((ticker,date,link))\n",
    "                \n",
    "                time.sleep(np.random.uniform(low=0.12,high= 1.324))\n",
    "    \n",
    "    driver.close()\n",
    "    \n",
    "    \n",
    "    return yf_links       \n",
    "    \n",
    "    '''"
   ]
  },
  {
   "cell_type": "code",
   "execution_count": 3,
   "id": "defc2fcb",
   "metadata": {
    "scrolled": true
   },
   "outputs": [
    {
     "name": "stdout",
     "output_type": "stream",
     "text": [
      "Opera/9.63 (Windows NT 5.2; U; en) Presto/2.1.1\n",
      "Mozilla/4.0 (compatible; MSIE 5.14; Mac_PowerPC)\n"
     ]
    },
    {
     "ename": "NoSuchWindowException",
     "evalue": "Message: no such window: target window already closed\nfrom unknown error: web view not found\n  (Session info: chrome=110.0.5481.178)\nStacktrace:\nBacktrace:\n\t(No symbol) [0x00563643]\n\t(No symbol) [0x004F8981]\n\t(No symbol) [0x003FB35D]\n\t(No symbol) [0x003DE5DA]\n\t(No symbol) [0x0044F0AB]\n\t(No symbol) [0x00460936]\n\t(No symbol) [0x0044B1F6]\n\t(No symbol) [0x00420D57]\n\t(No symbol) [0x004224FD]\n\tGetHandleVerifier [0x007DB5F2+2513186]\n\tGetHandleVerifier [0x0080B730+2710112]\n\tGetHandleVerifier [0x0080ECDC+2723852]\n\tGetHandleVerifier [0x00612250+640384]\n\t(No symbol) [0x00501142]\n\t(No symbol) [0x00506AD8]\n\t(No symbol) [0x00506BBB]\n\t(No symbol) [0x005109FB]\n\tBaseThreadInitThunk [0x765B00F9+25]\n\tRtlGetAppContainerNamedObjectPath [0x775A7BBE+286]\n\tRtlGetAppContainerNamedObjectPath [0x775A7B8E+238]\n",
     "output_type": "error",
     "traceback": [
      "\u001b[1;31m---------------------------------------------------------------------------\u001b[0m",
      "\u001b[1;31mNoSuchWindowException\u001b[0m                     Traceback (most recent call last)",
      "Cell \u001b[1;32mIn[3], line 1\u001b[0m\n\u001b[1;32m----> 1\u001b[0m yf_links \u001b[38;5;241m=\u001b[39m \u001b[43mgoogle_news_crawling\u001b[49m\u001b[43m(\u001b[49m\u001b[43mtickers\u001b[49m\u001b[38;5;241;43m=\u001b[39;49m\u001b[43m[\u001b[49m\u001b[38;5;124;43m'\u001b[39;49m\u001b[38;5;124;43mtsla\u001b[39;49m\u001b[38;5;124;43m'\u001b[39;49m\u001b[43m,\u001b[49m\u001b[38;5;124;43m'\u001b[39;49m\u001b[38;5;124;43mgoog\u001b[39;49m\u001b[38;5;124;43m'\u001b[39;49m\u001b[43m]\u001b[49m\u001b[43m)\u001b[49m\n",
      "Cell \u001b[1;32mIn[2], line 89\u001b[0m, in \u001b[0;36mgoogle_news_crawling\u001b[1;34m(tickers)\u001b[0m\n\u001b[0;32m     87\u001b[0m driver\u001b[38;5;241m.\u001b[39mswitch_to\u001b[38;5;241m.\u001b[39mdefault_content()\n\u001b[0;32m     88\u001b[0m time\u001b[38;5;241m.\u001b[39msleep(np\u001b[38;5;241m.\u001b[39mrandom\u001b[38;5;241m.\u001b[39muniform(low\u001b[38;5;241m=\u001b[39m\u001b[38;5;241m6.12\u001b[39m,high\u001b[38;5;241m=\u001b[39m \u001b[38;5;241m10.324\u001b[39m))\n\u001b[1;32m---> 89\u001b[0m driver\u001b[38;5;241m.\u001b[39mswitch_to\u001b[38;5;241m.\u001b[39mframe(\u001b[43mdriver\u001b[49m\u001b[38;5;241;43m.\u001b[39;49m\u001b[43mfind_element\u001b[49m\u001b[43m(\u001b[49m\u001b[43mBy\u001b[49m\u001b[38;5;241;43m.\u001b[39;49m\u001b[43mXPATH\u001b[49m\u001b[43m,\u001b[49m\u001b[43m \u001b[49m\u001b[38;5;124;43m'\u001b[39;49m\u001b[38;5;124;43m/html/body/div[2]/div[4]/iframe\u001b[39;49m\u001b[38;5;124;43m'\u001b[39;49m\u001b[43m)\u001b[49m)\n\u001b[0;32m     90\u001b[0m time\u001b[38;5;241m.\u001b[39msleep(np\u001b[38;5;241m.\u001b[39mrandom\u001b[38;5;241m.\u001b[39muniform(low\u001b[38;5;241m=\u001b[39m\u001b[38;5;241m3.12\u001b[39m,high\u001b[38;5;241m=\u001b[39m \u001b[38;5;241m10.324\u001b[39m))\n\u001b[0;32m     91\u001b[0m driver\u001b[38;5;241m.\u001b[39mfind_element(By\u001b[38;5;241m.\u001b[39mXPATH, \u001b[38;5;124m'\u001b[39m\u001b[38;5;124m//*[@id=\u001b[39m\u001b[38;5;124m\"\u001b[39m\u001b[38;5;124mrc-imageselect\u001b[39m\u001b[38;5;124m\"\u001b[39m\u001b[38;5;124m]/div[3]/div[2]/div[1]/div[1]/div[2]\u001b[39m\u001b[38;5;124m'\u001b[39m)\u001b[38;5;241m.\u001b[39mclick()\n",
      "File \u001b[1;32m~\\.conda\\envs\\sentiment\\lib\\site-packages\\selenium\\webdriver\\remote\\webdriver.py:830\u001b[0m, in \u001b[0;36mWebDriver.find_element\u001b[1;34m(self, by, value)\u001b[0m\n\u001b[0;32m    827\u001b[0m     by \u001b[38;5;241m=\u001b[39m By\u001b[38;5;241m.\u001b[39mCSS_SELECTOR\n\u001b[0;32m    828\u001b[0m     value \u001b[38;5;241m=\u001b[39m \u001b[38;5;124mf\u001b[39m\u001b[38;5;124m'\u001b[39m\u001b[38;5;124m[name=\u001b[39m\u001b[38;5;124m\"\u001b[39m\u001b[38;5;132;01m{\u001b[39;00mvalue\u001b[38;5;132;01m}\u001b[39;00m\u001b[38;5;124m\"\u001b[39m\u001b[38;5;124m]\u001b[39m\u001b[38;5;124m'\u001b[39m\n\u001b[1;32m--> 830\u001b[0m \u001b[38;5;28;01mreturn\u001b[39;00m \u001b[38;5;28;43mself\u001b[39;49m\u001b[38;5;241;43m.\u001b[39;49m\u001b[43mexecute\u001b[49m\u001b[43m(\u001b[49m\u001b[43mCommand\u001b[49m\u001b[38;5;241;43m.\u001b[39;49m\u001b[43mFIND_ELEMENT\u001b[49m\u001b[43m,\u001b[49m\u001b[43m \u001b[49m\u001b[43m{\u001b[49m\u001b[38;5;124;43m\"\u001b[39;49m\u001b[38;5;124;43musing\u001b[39;49m\u001b[38;5;124;43m\"\u001b[39;49m\u001b[43m:\u001b[49m\u001b[43m \u001b[49m\u001b[43mby\u001b[49m\u001b[43m,\u001b[49m\u001b[43m \u001b[49m\u001b[38;5;124;43m\"\u001b[39;49m\u001b[38;5;124;43mvalue\u001b[39;49m\u001b[38;5;124;43m\"\u001b[39;49m\u001b[43m:\u001b[49m\u001b[43m \u001b[49m\u001b[43mvalue\u001b[49m\u001b[43m}\u001b[49m\u001b[43m)\u001b[49m[\u001b[38;5;124m\"\u001b[39m\u001b[38;5;124mvalue\u001b[39m\u001b[38;5;124m\"\u001b[39m]\n",
      "File \u001b[1;32m~\\.conda\\envs\\sentiment\\lib\\site-packages\\selenium\\webdriver\\remote\\webdriver.py:440\u001b[0m, in \u001b[0;36mWebDriver.execute\u001b[1;34m(self, driver_command, params)\u001b[0m\n\u001b[0;32m    438\u001b[0m response \u001b[38;5;241m=\u001b[39m \u001b[38;5;28mself\u001b[39m\u001b[38;5;241m.\u001b[39mcommand_executor\u001b[38;5;241m.\u001b[39mexecute(driver_command, params)\n\u001b[0;32m    439\u001b[0m \u001b[38;5;28;01mif\u001b[39;00m response:\n\u001b[1;32m--> 440\u001b[0m     \u001b[38;5;28;43mself\u001b[39;49m\u001b[38;5;241;43m.\u001b[39;49m\u001b[43merror_handler\u001b[49m\u001b[38;5;241;43m.\u001b[39;49m\u001b[43mcheck_response\u001b[49m\u001b[43m(\u001b[49m\u001b[43mresponse\u001b[49m\u001b[43m)\u001b[49m\n\u001b[0;32m    441\u001b[0m     response[\u001b[38;5;124m\"\u001b[39m\u001b[38;5;124mvalue\u001b[39m\u001b[38;5;124m\"\u001b[39m] \u001b[38;5;241m=\u001b[39m \u001b[38;5;28mself\u001b[39m\u001b[38;5;241m.\u001b[39m_unwrap_value(response\u001b[38;5;241m.\u001b[39mget(\u001b[38;5;124m\"\u001b[39m\u001b[38;5;124mvalue\u001b[39m\u001b[38;5;124m\"\u001b[39m, \u001b[38;5;28;01mNone\u001b[39;00m))\n\u001b[0;32m    442\u001b[0m     \u001b[38;5;28;01mreturn\u001b[39;00m response\n",
      "File \u001b[1;32m~\\.conda\\envs\\sentiment\\lib\\site-packages\\selenium\\webdriver\\remote\\errorhandler.py:245\u001b[0m, in \u001b[0;36mErrorHandler.check_response\u001b[1;34m(self, response)\u001b[0m\n\u001b[0;32m    243\u001b[0m         alert_text \u001b[38;5;241m=\u001b[39m value[\u001b[38;5;124m\"\u001b[39m\u001b[38;5;124malert\u001b[39m\u001b[38;5;124m\"\u001b[39m]\u001b[38;5;241m.\u001b[39mget(\u001b[38;5;124m\"\u001b[39m\u001b[38;5;124mtext\u001b[39m\u001b[38;5;124m\"\u001b[39m)\n\u001b[0;32m    244\u001b[0m     \u001b[38;5;28;01mraise\u001b[39;00m exception_class(message, screen, stacktrace, alert_text)  \u001b[38;5;66;03m# type: ignore[call-arg]  # mypy is not smart enough here\u001b[39;00m\n\u001b[1;32m--> 245\u001b[0m \u001b[38;5;28;01mraise\u001b[39;00m exception_class(message, screen, stacktrace)\n",
      "\u001b[1;31mNoSuchWindowException\u001b[0m: Message: no such window: target window already closed\nfrom unknown error: web view not found\n  (Session info: chrome=110.0.5481.178)\nStacktrace:\nBacktrace:\n\t(No symbol) [0x00563643]\n\t(No symbol) [0x004F8981]\n\t(No symbol) [0x003FB35D]\n\t(No symbol) [0x003DE5DA]\n\t(No symbol) [0x0044F0AB]\n\t(No symbol) [0x00460936]\n\t(No symbol) [0x0044B1F6]\n\t(No symbol) [0x00420D57]\n\t(No symbol) [0x004224FD]\n\tGetHandleVerifier [0x007DB5F2+2513186]\n\tGetHandleVerifier [0x0080B730+2710112]\n\tGetHandleVerifier [0x0080ECDC+2723852]\n\tGetHandleVerifier [0x00612250+640384]\n\t(No symbol) [0x00501142]\n\t(No symbol) [0x00506AD8]\n\t(No symbol) [0x00506BBB]\n\t(No symbol) [0x005109FB]\n\tBaseThreadInitThunk [0x765B00F9+25]\n\tRtlGetAppContainerNamedObjectPath [0x775A7BBE+286]\n\tRtlGetAppContainerNamedObjectPath [0x775A7B8E+238]\n"
     ]
    }
   ],
   "source": [
    "yf_links = google_news_crawling(tickers=['tsla','goog'])"
   ]
  },
  {
   "cell_type": "markdown",
   "id": "a5e62457",
   "metadata": {},
   "source": [
    "## UNDETECTED TEST"
   ]
  },
  {
   "cell_type": "code",
   "execution_count": 28,
   "id": "46909f20",
   "metadata": {},
   "outputs": [],
   "source": [
    "import undetected_chromedriver as uc\n",
    "\n",
    "def google_news_crawling(tickers=[]):\n",
    "    \n",
    "    #driver = uc.Chrome()\n",
    "    options = uc.ChromeOptions()\n",
    "    options.add_argument(\"--disable-blink-features=AutomationControlled\")\n",
    "    options.add_argument('--start-maximized')\n",
    "    #options.add_argument(\"disable-infobars\")\n",
    "    options.add_argument(\"--disable-extensions\")\n",
    "    #options.add_experimental_option(\"excludeSwitches\", [\"enable-automation\"]) \n",
    "    #options.add_experimental_option(\"useAutomationExtension\", False)\n",
    "    options.add_argument(\"--no-sandbox\")\n",
    "    #options.add_argument(\"--disable-dev-shm-usage\")\n",
    "    \n",
    "    driver = uc.Chrome(options=options)\n",
    "    \n",
    "    url_list = google_news_urls_by_date(website='finance.yahoo.com',\n",
    "                        ticker='aapl',\n",
    "                        start_date= (datetime.now() - relativedelta(years=3)).date())\n",
    "    \n",
    "    # La lista de url está por orden de fecha, la desordeno para despistar a Google.\n",
    "    random.shuffle(url_list)\n",
    "    \n",
    "    #Lo mismo con los user_agents.\n",
    "    user_agents = ([\"Mozilla/5.0 (X11; Linux x86_64) AppleWebKit/537.36 (KHTML, like Gecko) Chrome/44.0.2403.157 Safari/537.36\",\n",
    "                    \"Mozilla/5.0 (X11; Ubuntu; Linux i686; rv:24.0) Gecko/20100101 Firefox/24.0\",\n",
    "                    \"Mozilla/5.0 (Windows NT 10.0; Win64; x64; rv:77.0) Gecko/20100101 Firefox/77.0\",\n",
    "                    \"Mozilla/5.0 (Macintosh; Intel Mac OS X 10_15_5) AppleWebKit/537.36 (KHTML, like Gecko) Chrome/83.0.4103.97 Safari/537.36\",\n",
    "                    \"Mozilla/5.0 (Macintosh; Intel Mac OS X 10.15; rv:77.0) Gecko/20100101 Firefox/77.0\",\n",
    "                    \"Mozilla/5.0 (X11; Linux i586; rv:31.0) Gecko/20100101 Firefox/31.0\",\n",
    "                    \"Mozilla/5.0 (Windows NT 10.0; Win64; x64) AppleWebKit/537.36 (KHTML, like Gecko) Chrome/83.0.4103.97 Safari/537.36\",\n",
    "                    \"Mozilla/5.0 (Windows Phone 10.0; Android 4.2.1; Microsoft; Lumia 640 XL LTE) AppleWebKit/537.36 (KHTML, like Gecko) Chrome/42.0.2311.135 Mobile Safari/537.36 Edge/12.10166\"])\n",
    "    \n",
    "    #Primera ejecución, pantalla cookies:\n",
    "    #driver.get(url_list[0][1])\n",
    "    #time.sleep(np.random.uniform(low=5.12,high=7.324))\n",
    "    #get_url = driver.current_url\n",
    "    \n",
    "    \n",
    "    # *****PONER EL SETTING DE GOOGLE EN INGLES*****\n",
    "    \n",
    "    # WHISPER para pasar el captcha de Google\n",
    "    def saveFile(content,filename):\n",
    "        with open(filename, \"wb\") as handle:\n",
    "            for data in content.iter_content():\n",
    "                handle.write(data)\n",
    "                \n",
    "    def sleep(dur=''):\n",
    "        if dur == 'long':\n",
    "            time.sleep(np.random.uniform(low=5.12,high=8.324))\n",
    "        elif dur == 'short':\n",
    "            time.sleep(np.random.uniform(low=2.12,high=5.324))\n",
    "        else:\n",
    "            time.sleep(np.random.uniform(low=0.5,high=0.8))\n",
    "            \n",
    "    yf_links = []\n",
    "    \n",
    "    for ticker in tickers:\n",
    "\n",
    "\n",
    "        for date,url in url_list:\n",
    "            #ua = UserAgent()\n",
    "            #userAgent = ua.random\n",
    "            user_agent = random.choice(user_agents)\n",
    "            driver.execute_cdp_cmd(\"Network.setUserAgentOverride\", {\"userAgent\": user_agent})\n",
    "            driver.get(url)            \n",
    "            get_url = driver.current_url\n",
    "            \n",
    "            # GESTIÓN CAPTCHA\n",
    "            if 'consent.google.com' in get_url: \n",
    "                sleep('short')\n",
    "                sleep('long')\n",
    "                driver.find_element('xpath','//*[@id=\"yDmH0d\"]/c-wiz/div/div/div/div[2]/div[1]/div[3]/div[1]/div[1]/form[2]/div/div/button').click()\n",
    "                sleep('long')\n",
    "                \n",
    "                \n",
    "            elif 'google.com/sorry/' in get_url:\n",
    "                sleep('short')\n",
    "                sleep('short')\n",
    "                driver.switch_to.frame(driver.find_element(By.XPATH,'//*[@id=\"recaptcha\"]/div/div/iframe'))\n",
    "                sleep('short')\n",
    "                sleep('short')\n",
    "                driver.find_element('xpath','//*[@id=\"recaptcha-anchor\"]/div[1]').click()\n",
    "                sleep('short')\n",
    "                \n",
    "                # Botón (Get an audio challenge)\n",
    "                driver.switch_to.default_content()\n",
    "                time.sleep(np.random.uniform(low=6.12,high= 10.324))\n",
    "                driver.switch_to.frame(driver.find_element(By.XPATH, '/html/body/div[2]/div[4]/iframe'))\n",
    "                time.sleep(np.random.uniform(low=3.12,high= 10.324))\n",
    "                driver.find_element(By.XPATH, '//*[@id=\"rc-imageselect\"]/div[3]/div[2]/div[1]/div[1]/div[2]').click()\n",
    "                sleep('short')\n",
    "    \n",
    "                html = driver.page_source\n",
    "                soup = BeautifulSoup(html, 'html.parser')\n",
    "                filter_a = soup.find_all('a')\n",
    "                captcha_link = [link.get('href') for link in filter_a][0]\n",
    "                print(captcha_link)\n",
    "                \n",
    "                \n",
    "            \n",
    "                break\n",
    "\n",
    "              \n",
    "            else:   \n",
    "                html = driver.page_source\n",
    "                soup = BeautifulSoup(html, 'html.parser')\n",
    "                filter_a = soup.find_all('a')\n",
    "                links = [link.get('src') for link in filter_a]\n",
    "                links_filtered = [link for link in links if link != None and 'https://finance.yahoo.com/news/' in link]\n",
    "                # Filtro links de YF y limpio \n",
    "                for link in links_filtered:\n",
    "                    link = re.search(r'https://(.*?).html',link).group()\n",
    "                    yf_links.append((ticker,date,link))\n",
    "                #Forzar bot\n",
    "                #time.sleep(np.random.uniform(low=0.12,high= 1.324))\n",
    "    \n",
    "    driver.close()\n",
    "    \n",
    "    \n",
    "    return yf_links       \n",
    "    \n",
    "    "
   ]
  },
  {
   "cell_type": "code",
   "execution_count": 29,
   "id": "2000e7c9",
   "metadata": {},
   "outputs": [
    {
     "ename": "NoSuchElementException",
     "evalue": "Message: no such element: Unable to locate element: {\"method\":\"xpath\",\"selector\":\"//*[@id=\"yDmH0d\"]/c-wiz/div/div/div/div[2]/div[1]/div[3]/div[1]/div[1]/form[2]/div/div/button\"}\n  (Session info: chrome=110.0.5481.178)\nStacktrace:\nBacktrace:\n\t(No symbol) [0x00C137D3]\n\t(No symbol) [0x00BA8B81]\n\t(No symbol) [0x00AAB36D]\n\t(No symbol) [0x00ADD382]\n\t(No symbol) [0x00ADD4BB]\n\t(No symbol) [0x00B13302]\n\t(No symbol) [0x00AFB464]\n\t(No symbol) [0x00B11215]\n\t(No symbol) [0x00AFB216]\n\t(No symbol) [0x00AD0D97]\n\t(No symbol) [0x00AD253D]\n\tGetHandleVerifier [0x00E8ABF2+2510930]\n\tGetHandleVerifier [0x00EB8EC1+2700065]\n\tGetHandleVerifier [0x00EBC86C+2714828]\n\tGetHandleVerifier [0x00CC3480+645344]\n\t(No symbol) [0x00BB0FD2]\n\t(No symbol) [0x00BB6C68]\n\t(No symbol) [0x00BB6D4B]\n\t(No symbol) [0x00BC0D6B]\n\tBaseThreadInitThunk [0x76F300F9+25]\n\tRtlGetAppContainerNamedObjectPath [0x774B7BBE+286]\n\tRtlGetAppContainerNamedObjectPath [0x774B7B8E+238]\n",
     "output_type": "error",
     "traceback": [
      "\u001b[1;31m---------------------------------------------------------------------------\u001b[0m",
      "\u001b[1;31mNoSuchElementException\u001b[0m                    Traceback (most recent call last)",
      "Cell \u001b[1;32mIn[29], line 1\u001b[0m\n\u001b[1;32m----> 1\u001b[0m yf_links \u001b[38;5;241m=\u001b[39m \u001b[43mgoogle_news_crawling\u001b[49m\u001b[43m(\u001b[49m\u001b[43mtickers\u001b[49m\u001b[38;5;241;43m=\u001b[39;49m\u001b[43m[\u001b[49m\u001b[38;5;124;43m'\u001b[39;49m\u001b[38;5;124;43mtsla\u001b[39;49m\u001b[38;5;124;43m'\u001b[39;49m\u001b[43m,\u001b[49m\u001b[38;5;124;43m'\u001b[39;49m\u001b[38;5;124;43mgoog\u001b[39;49m\u001b[38;5;124;43m'\u001b[39;49m\u001b[43m]\u001b[49m\u001b[43m)\u001b[49m\n",
      "Cell \u001b[1;32mIn[28], line 74\u001b[0m, in \u001b[0;36mgoogle_news_crawling\u001b[1;34m(tickers)\u001b[0m\n\u001b[0;32m     72\u001b[0m     sleep(\u001b[38;5;124m'\u001b[39m\u001b[38;5;124mshort\u001b[39m\u001b[38;5;124m'\u001b[39m)\n\u001b[0;32m     73\u001b[0m     sleep(\u001b[38;5;124m'\u001b[39m\u001b[38;5;124mlong\u001b[39m\u001b[38;5;124m'\u001b[39m)\n\u001b[1;32m---> 74\u001b[0m     \u001b[43mdriver\u001b[49m\u001b[38;5;241;43m.\u001b[39;49m\u001b[43mfind_element\u001b[49m\u001b[43m(\u001b[49m\u001b[38;5;124;43m'\u001b[39;49m\u001b[38;5;124;43mxpath\u001b[39;49m\u001b[38;5;124;43m'\u001b[39;49m\u001b[43m,\u001b[49m\u001b[38;5;124;43m'\u001b[39;49m\u001b[38;5;124;43m//*[@id=\u001b[39;49m\u001b[38;5;124;43m\"\u001b[39;49m\u001b[38;5;124;43myDmH0d\u001b[39;49m\u001b[38;5;124;43m\"\u001b[39;49m\u001b[38;5;124;43m]/c-wiz/div/div/div/div[2]/div[1]/div[3]/div[1]/div[1]/form[2]/div/div/button\u001b[39;49m\u001b[38;5;124;43m'\u001b[39;49m\u001b[43m)\u001b[49m\u001b[38;5;241m.\u001b[39mclick()\n\u001b[0;32m     75\u001b[0m     sleep(\u001b[38;5;124m'\u001b[39m\u001b[38;5;124mlong\u001b[39m\u001b[38;5;124m'\u001b[39m)\n\u001b[0;32m     78\u001b[0m \u001b[38;5;28;01melif\u001b[39;00m \u001b[38;5;124m'\u001b[39m\u001b[38;5;124mgoogle.com/sorry/\u001b[39m\u001b[38;5;124m'\u001b[39m \u001b[38;5;129;01min\u001b[39;00m get_url:\n",
      "File \u001b[1;32m~\\.conda\\envs\\sentiment\\lib\\site-packages\\selenium\\webdriver\\remote\\webdriver.py:830\u001b[0m, in \u001b[0;36mWebDriver.find_element\u001b[1;34m(self, by, value)\u001b[0m\n\u001b[0;32m    827\u001b[0m     by \u001b[38;5;241m=\u001b[39m By\u001b[38;5;241m.\u001b[39mCSS_SELECTOR\n\u001b[0;32m    828\u001b[0m     value \u001b[38;5;241m=\u001b[39m \u001b[38;5;124mf\u001b[39m\u001b[38;5;124m'\u001b[39m\u001b[38;5;124m[name=\u001b[39m\u001b[38;5;124m\"\u001b[39m\u001b[38;5;132;01m{\u001b[39;00mvalue\u001b[38;5;132;01m}\u001b[39;00m\u001b[38;5;124m\"\u001b[39m\u001b[38;5;124m]\u001b[39m\u001b[38;5;124m'\u001b[39m\n\u001b[1;32m--> 830\u001b[0m \u001b[38;5;28;01mreturn\u001b[39;00m \u001b[38;5;28;43mself\u001b[39;49m\u001b[38;5;241;43m.\u001b[39;49m\u001b[43mexecute\u001b[49m\u001b[43m(\u001b[49m\u001b[43mCommand\u001b[49m\u001b[38;5;241;43m.\u001b[39;49m\u001b[43mFIND_ELEMENT\u001b[49m\u001b[43m,\u001b[49m\u001b[43m \u001b[49m\u001b[43m{\u001b[49m\u001b[38;5;124;43m\"\u001b[39;49m\u001b[38;5;124;43musing\u001b[39;49m\u001b[38;5;124;43m\"\u001b[39;49m\u001b[43m:\u001b[49m\u001b[43m \u001b[49m\u001b[43mby\u001b[49m\u001b[43m,\u001b[49m\u001b[43m \u001b[49m\u001b[38;5;124;43m\"\u001b[39;49m\u001b[38;5;124;43mvalue\u001b[39;49m\u001b[38;5;124;43m\"\u001b[39;49m\u001b[43m:\u001b[49m\u001b[43m \u001b[49m\u001b[43mvalue\u001b[49m\u001b[43m}\u001b[49m\u001b[43m)\u001b[49m[\u001b[38;5;124m\"\u001b[39m\u001b[38;5;124mvalue\u001b[39m\u001b[38;5;124m\"\u001b[39m]\n",
      "File \u001b[1;32m~\\.conda\\envs\\sentiment\\lib\\site-packages\\selenium\\webdriver\\remote\\webdriver.py:440\u001b[0m, in \u001b[0;36mWebDriver.execute\u001b[1;34m(self, driver_command, params)\u001b[0m\n\u001b[0;32m    438\u001b[0m response \u001b[38;5;241m=\u001b[39m \u001b[38;5;28mself\u001b[39m\u001b[38;5;241m.\u001b[39mcommand_executor\u001b[38;5;241m.\u001b[39mexecute(driver_command, params)\n\u001b[0;32m    439\u001b[0m \u001b[38;5;28;01mif\u001b[39;00m response:\n\u001b[1;32m--> 440\u001b[0m     \u001b[38;5;28;43mself\u001b[39;49m\u001b[38;5;241;43m.\u001b[39;49m\u001b[43merror_handler\u001b[49m\u001b[38;5;241;43m.\u001b[39;49m\u001b[43mcheck_response\u001b[49m\u001b[43m(\u001b[49m\u001b[43mresponse\u001b[49m\u001b[43m)\u001b[49m\n\u001b[0;32m    441\u001b[0m     response[\u001b[38;5;124m\"\u001b[39m\u001b[38;5;124mvalue\u001b[39m\u001b[38;5;124m\"\u001b[39m] \u001b[38;5;241m=\u001b[39m \u001b[38;5;28mself\u001b[39m\u001b[38;5;241m.\u001b[39m_unwrap_value(response\u001b[38;5;241m.\u001b[39mget(\u001b[38;5;124m\"\u001b[39m\u001b[38;5;124mvalue\u001b[39m\u001b[38;5;124m\"\u001b[39m, \u001b[38;5;28;01mNone\u001b[39;00m))\n\u001b[0;32m    442\u001b[0m     \u001b[38;5;28;01mreturn\u001b[39;00m response\n",
      "File \u001b[1;32m~\\.conda\\envs\\sentiment\\lib\\site-packages\\selenium\\webdriver\\remote\\errorhandler.py:245\u001b[0m, in \u001b[0;36mErrorHandler.check_response\u001b[1;34m(self, response)\u001b[0m\n\u001b[0;32m    243\u001b[0m         alert_text \u001b[38;5;241m=\u001b[39m value[\u001b[38;5;124m\"\u001b[39m\u001b[38;5;124malert\u001b[39m\u001b[38;5;124m\"\u001b[39m]\u001b[38;5;241m.\u001b[39mget(\u001b[38;5;124m\"\u001b[39m\u001b[38;5;124mtext\u001b[39m\u001b[38;5;124m\"\u001b[39m)\n\u001b[0;32m    244\u001b[0m     \u001b[38;5;28;01mraise\u001b[39;00m exception_class(message, screen, stacktrace, alert_text)  \u001b[38;5;66;03m# type: ignore[call-arg]  # mypy is not smart enough here\u001b[39;00m\n\u001b[1;32m--> 245\u001b[0m \u001b[38;5;28;01mraise\u001b[39;00m exception_class(message, screen, stacktrace)\n",
      "\u001b[1;31mNoSuchElementException\u001b[0m: Message: no such element: Unable to locate element: {\"method\":\"xpath\",\"selector\":\"//*[@id=\"yDmH0d\"]/c-wiz/div/div/div/div[2]/div[1]/div[3]/div[1]/div[1]/form[2]/div/div/button\"}\n  (Session info: chrome=110.0.5481.178)\nStacktrace:\nBacktrace:\n\t(No symbol) [0x00C137D3]\n\t(No symbol) [0x00BA8B81]\n\t(No symbol) [0x00AAB36D]\n\t(No symbol) [0x00ADD382]\n\t(No symbol) [0x00ADD4BB]\n\t(No symbol) [0x00B13302]\n\t(No symbol) [0x00AFB464]\n\t(No symbol) [0x00B11215]\n\t(No symbol) [0x00AFB216]\n\t(No symbol) [0x00AD0D97]\n\t(No symbol) [0x00AD253D]\n\tGetHandleVerifier [0x00E8ABF2+2510930]\n\tGetHandleVerifier [0x00EB8EC1+2700065]\n\tGetHandleVerifier [0x00EBC86C+2714828]\n\tGetHandleVerifier [0x00CC3480+645344]\n\t(No symbol) [0x00BB0FD2]\n\t(No symbol) [0x00BB6C68]\n\t(No symbol) [0x00BB6D4B]\n\t(No symbol) [0x00BC0D6B]\n\tBaseThreadInitThunk [0x76F300F9+25]\n\tRtlGetAppContainerNamedObjectPath [0x774B7BBE+286]\n\tRtlGetAppContainerNamedObjectPath [0x774B7B8E+238]\n"
     ]
    }
   ],
   "source": [
    "yf_links = google_news_crawling(tickers=['tsla','goog'])"
   ]
  },
  {
   "cell_type": "code",
   "execution_count": null,
   "id": "2835cc52",
   "metadata": {},
   "outputs": [],
   "source": []
  },
  {
   "cell_type": "code",
   "execution_count": null,
   "id": "836c9a64",
   "metadata": {},
   "outputs": [],
   "source": []
  },
  {
   "cell_type": "code",
   "execution_count": null,
   "id": "413b2ce1",
   "metadata": {},
   "outputs": [],
   "source": []
  },
  {
   "cell_type": "code",
   "execution_count": null,
   "id": "fb95e42e",
   "metadata": {},
   "outputs": [],
   "source": [
    "url_list = google_news_urls_by_date(website='yahoo+finance',\n",
    "                        ticker='aapl',\n",
    "                        start_date= (datetime.now() - relativedelta(years=5)).date())"
   ]
  },
  {
   "cell_type": "code",
   "execution_count": null,
   "id": "9357dba3",
   "metadata": {},
   "outputs": [],
   "source": []
  },
  {
   "cell_type": "code",
   "execution_count": null,
   "id": "e06e3aab",
   "metadata": {},
   "outputs": [],
   "source": [
    "google_news_urls_by_date()"
   ]
  },
  {
   "cell_type": "code",
   "execution_count": null,
   "id": "6f77d5f3",
   "metadata": {},
   "outputs": [],
   "source": []
  },
  {
   "cell_type": "code",
   "execution_count": null,
   "id": "bdf4f075",
   "metadata": {},
   "outputs": [],
   "source": []
  },
  {
   "cell_type": "code",
   "execution_count": null,
   "id": "3c1dec56",
   "metadata": {},
   "outputs": [],
   "source": []
  },
  {
   "cell_type": "code",
   "execution_count": null,
   "id": "89d14ae2",
   "metadata": {},
   "outputs": [],
   "source": []
  },
  {
   "cell_type": "code",
   "execution_count": null,
   "id": "033e4338",
   "metadata": {},
   "outputs": [],
   "source": [
    "print(url_list)"
   ]
  },
  {
   "cell_type": "code",
   "execution_count": null,
   "id": "e83006a0",
   "metadata": {},
   "outputs": [],
   "source": [
    "li = google_news_urls_by_date(website='yahoo+finance',ticker='aapl',start_date= (datetime.now() - relativedelta(years=3)).date())"
   ]
  },
  {
   "cell_type": "code",
   "execution_count": null,
   "id": "a16f955d",
   "metadata": {},
   "outputs": [],
   "source": [
    "import winsound\n",
    "duration = 1000  # milliseconds\n",
    "freq = 800\n",
    "winsound.Beep(freq, duration)\n",
    "duration = 1000  # milliseconds\n",
    "freq = 400\n",
    "winsound.Beep(freq, duration)\n",
    "duration = 1000  # milliseconds\n",
    "freq = 800\n",
    "winsound.Beep(freq, duration)\n",
    "duration = 1000  # milliseconds\n",
    "freq = 400\n",
    "winsound.Beep(freq, duration)"
   ]
  },
  {
   "cell_type": "code",
   "execution_count": null,
   "id": "c43bd76f",
   "metadata": {},
   "outputs": [],
   "source": [
    "random.shuffle(li)"
   ]
  },
  {
   "cell_type": "code",
   "execution_count": null,
   "id": "18d616f9",
   "metadata": {},
   "outputs": [],
   "source": []
  },
  {
   "cell_type": "code",
   "execution_count": null,
   "id": "03736ca6",
   "metadata": {},
   "outputs": [],
   "source": []
  },
  {
   "cell_type": "code",
   "execution_count": null,
   "id": "73a623a3",
   "metadata": {},
   "outputs": [],
   "source": []
  },
  {
   "cell_type": "code",
   "execution_count": null,
   "id": "8a681572",
   "metadata": {},
   "outputs": [],
   "source": [
    "google_news_urls_by_date(website='yahoo+finance',\n",
    "                        ticker='aapl',\n",
    "                        start_date= (datetime.now() - relativedelta(years=5)).date())"
   ]
  },
  {
   "cell_type": "code",
   "execution_count": null,
   "id": "57f243b6",
   "metadata": {},
   "outputs": [],
   "source": []
  },
  {
   "cell_type": "code",
   "execution_count": null,
   "id": "9ecdabb1",
   "metadata": {},
   "outputs": [],
   "source": [
    "conf = input('Hecho? OK')\n",
    "if conf == 'OK':\n",
    "    print(' hola')"
   ]
  },
  {
   "cell_type": "code",
   "execution_count": null,
   "id": "77342074",
   "metadata": {},
   "outputs": [],
   "source": []
  },
  {
   "cell_type": "code",
   "execution_count": null,
   "id": "fea4e8b8",
   "metadata": {},
   "outputs": [],
   "source": []
  },
  {
   "cell_type": "code",
   "execution_count": null,
   "id": "2369e722",
   "metadata": {},
   "outputs": [],
   "source": [
    "google_news_urls_by_date(website='yahoo+finance',\n",
    "                                         ticker='aapl',\n",
    "                                         start_date= (datetime.now() - relativedelta(years=5)).date())"
   ]
  },
  {
   "cell_type": "markdown",
   "id": "efcab0b4",
   "metadata": {},
   "source": [
    "\n"
   ]
  },
  {
   "cell_type": "code",
   "execution_count": null,
   "id": "89095918",
   "metadata": {
    "scrolled": true
   },
   "outputs": [],
   "source": [
    "def google_news_crawling(website='yahoo+finance', tickers=[]):\n",
    "    from datetime import date, timedelta,datetime\n",
    "    from dateutil.relativedelta import relativedelta\n",
    "    import random\n",
    "    import regex as re\n",
    "    for ticker in tickers:\n",
    "        \n",
    "        start_date= (datetime.now() - relativedelta(years=5)).date()\n",
    "        \n",
    "        urls = google_news_urls_by_date(website=website,\n",
    "                                         ticker=ticker,\n",
    "                                         start_date= start_date)\n",
    "        #print(urls)\n",
    "        #date_yf_links = []\n",
    "        \n",
    "        user_agents = ([\n",
    "                        \"Mozilla/5.0 (X11; Linux x86_64) AppleWebKit/537.36 (KHTML, like Gecko) Chrome/44.0.2403.157 Safari/537.36\",\n",
    "                        \"Mozilla/5.0 (X11; Ubuntu; Linux i686; rv:24.0) Gecko/20100101 Firefox/24.0\",\n",
    "                        \"Mozilla/5.0 (X11; Linux x86_64) AppleWebKit/537.36 (KHTML, like Gecko) HeadlessChrome/91.0.4472.114 Safari/537.36\",\n",
    "                        \"Mozilla/5.0 (Macintosh; Intel Mac OS X 10_15_5) AppleWebKit/605.1.15 (KHTML, like Gecko) Version/13.1.1 Safari/605.1.15\",\n",
    "                        \"Mozilla/5.0 (Windows NT 10.0; Win64; x64; rv:77.0) Gecko/20100101 Firefox/77.0\",\n",
    "                        \"Mozilla/5.0 (Macintosh; Intel Mac OS X 10_15_5) AppleWebKit/537.36 (KHTML, like Gecko) Chrome/83.0.4103.97 Safari/537.36\",\n",
    "                        \"Mozilla/5.0 (Macintosh; Intel Mac OS X 10.15; rv:77.0) Gecko/20100101 Firefox/77.0\",\n",
    "                        \"Mozilla/5.0 (X11; Linux x86_64) AppleWebKit/537.36 (KHTML, like Gecko) HeadlessChrome/78.0.3904.70 Safari/537.36\",\n",
    "                        \"Mozilla/5.0 (X11; Linux i586; rv:31.0) Gecko/20100101 Firefox/31.0\",\n",
    "                        \"Mozilla/5.0 (Windows NT 10.0; Win64; x64) AppleWebKit/537.36 (KHTML, like Gecko) Chrome/83.0.4103.97 Safari/537.36\",\n",
    "                        ])\n",
    "        my_headers={\n",
    "        'accept': '*/*',\n",
    "        'accept-encoding': \"'gzip, deflate, br'\",\n",
    "        'accept-language': 'en-US,en;q=0.9,es;q=0.8,fr;q=0.7,es-AR;q=0.6,es-CL;q=0.5,es-CO;q=0.4,es-CR;q=0.3,es-HN;q=0.2,es-419;q=0.1,es-MX;q=0.1,es-PE;q=0.1,es-ES;q=0.1,es-US;q=0.1,es-UY;q=0.1,es-VE;q=0.1,en-AU;q=0.1,en-CA;q=0.1,en-IN;q=0.1,en-NZ;q=0.1,en-ZA;q=0.1,en-GB-oxendict;q=0.1,en-GB;q=0.1',\n",
    "        'cookie': 'CONSENT=PENDING+688; SOCS=CAISHAgCEhJnd3NfMjAyMjA4MzEtMF9SQzEaAmVuIAEaBgiAm9qYBg; OTZ=6897260_52_52_123900_48_436380; HSID=AtZmyQHmArxqGX5dc; SSID=AaS-JlMTlg_NNP5J_; APISID=9V51PDhwrKf1QrPF/A0mRR2ajOD5733E1R; SAPISID=v29tH1kiX5a11DZJ/AGOwlrkRNhRrgxGDl; __Secure-1PAPISID=v29tH1kiX5a11DZJ/AGOwlrkRNhRrgxGDl; __Secure-3PAPISID=v29tH1kiX5a11DZJ/AGOwlrkRNhRrgxGDl; SID=Twg_mS4aFYouWNIEGXz9gNeAo6ckbt3ie66iwV2HeHOyaTGSLSBCFmGMRDDgHh2kuqNCTw.; __Secure-1PSID=Twg_mS4aFYouWNIEGXz9gNeAo6ckbt3ie66iwV2HeHOyaTGSsGjLsXGH98NgqpccZvOgbw.; __Secure-3PSID=Twg_mS4aFYouWNIEGXz9gNeAo6ckbt3ie66iwV2HeHOyaTGSuQXu6YS6qu8SFAWXfaedHQ.; SEARCH_SAMESITE=CgQI1pcB; NID=511=DqTQe41e17xDH_h8dGVkXWemW1kaTEQfyRhr1WxHqeKCkMMr5yDauvn6adAgMGqS-qj9v9As2LhhbCFfAQIOyQYPyXmGekEPmJD_fFhMUC-igrbSA1lqlcJNtOPlUf9FzscUkQuTBVxmgmXmltdoFnxR9bXTTJ1j9f54_0J7-oqJmFeeBKY_SiB6ZjFjoQVlQ_qRVsVHJPDyB2MfNoBBW4PnvF3siq6mXRMAy3pQsSXR7githEYJJ7J7SDV-aU667uaSevpxTvOqwdyP9_bfW6mE93kGZAl9hoHkDfd_QR9k88bA6YM5OdmjQjd88i-Yfeh1o1H72EDCjSbZ9rUrveLkXm-dE8Avkw7vTuovF27jLvOzLShkQPMrCUaMt7_aJxB91g; AEC=ARSKqsLNySy69b23KjZezmwHkVFb_CRmYM_RFDmF9B_WSVRdaLJAfEK38R4; 1P_JAR=2023-2-27-15; DV=UwC5vKuYhEZWwMb7DvWOPzOSJPk4aRhfk61DJytXfAAAAAAifm2YC1-eTQAAAHh0x-PxVD2eIgAAAMKB-zMlQ7QOEgAAAA; UULE=a+cm9sZTogMQpwcm9kdWNlcjogMTIKdGltZXN0YW1wOiAxNjc3NTEyOTA2MDY4MDAwCmxhdGxuZyB7CiAgbGF0aXR1ZGVfZTc6IDQwMzk4MDE5MAogIGxvbmdpdHVkZV9lNzogLTM3MTc5ODY5Cn0KcmFkaXVzOiA0NTE5OApwcm92ZW5hbmNlOiA2Cg==; SIDCC=AFvIBn9HKrYghw6Dwf70xtSfEPijz4JwE2B--NrSkTL_nQYyjb5q2X9OSQ319mJaNWZpRlsS0uyr; __Secure-1PSIDCC=AFvIBn_UH9h6srWKvjGW62swYrjlVjwGmhbEiw_DqGW1HKe_Ty70LWV8TxPFRNU2TItaf2hnjlxk; __Secure-3PSIDCC=AFvIBn_FkbZTifZkuVsarSsHSt5JLMMkfJ0poRLtFKvWN165fAxE74_pINdJnAb3StZzlPrMlhno',\n",
    "        'referer': 'https://www.google.com/',\n",
    "        'sec-ch-ua': '\"Chromium\";v=\"110\", \"Not A(Brand\";v=\"24\", \"Google Chrome\";v=\"110\"',\n",
    "        'sec-ch-ua-arch': \"x86\",\n",
    "        'sec-ch-ua-bitness': \"64\",\n",
    "        'sec-ch-ua-full-version': \"110.0.5481.105\",\n",
    "        'sec-ch-ua-full-version-list': '\"Chromium\";v=\"110.0.5481.105\", \"Not A(Brand\";v=\"24.0.0.0\", \"Google Chrome\";v=\"110.0.5481.105\"',\n",
    "        'sec-ch-ua-mobile': '?0',\n",
    "        'sec-ch-ua-platform': \"Windows\",\n",
    "        'sec-ch-ua-platform-version': \"10.0.0\",\n",
    "        'sec-ch-ua-wow64': '?0',\n",
    "        'sec-fetch-dest': 'empty',\n",
    "        'sec-fetch-mode': 'cors',\n",
    "        'sec-fetch-site': 'same-origin',\n",
    "        'user-agent': 'Mozilla/5.0 (Windows NT 10.0; Win64; x64) AppleWebKit/537.36 (KHTML, like Gecko) Chrome/110.0.0.0 Safari/537.36',\n",
    "        'x-client-data': 'CJK2yQEIpLbJAQjEtskBCKmdygEI24rLAQiTocsBCOP1zAEI8oDNAQjji80BCJCMzQEI043NAQi5kc0BCIyTzQEIkpbNAQiols0BCNLhrAI'\n",
    "        }\n",
    "        \n",
    "        yf_links = []\n",
    "        \n",
    "        for date,url in urls:\n",
    "            print(yf_links)\n",
    "            try:\n",
    "                with requests.get(url) as response:\n",
    "                    \n",
    "                    headers = {'User-Agent': ,\n",
    "                               'referer':'https://www.google.com/',\n",
    "                               'Accept': 'text/html,application/xhtml+xml,application/xml;q=0.9,image/webp,*/*;q=0.8',\n",
    "                                'Accept-Language': 'en-US,en;q=0.5',\n",
    "                                'DNT': '1',\n",
    "                                'Connection': 'keep-alive',\n",
    "                                'Upgrade-Insecure-Requests': '1',\n",
    "                              }\n",
    "                    #cookies={'CONSENT': 'YES+cb.20210418-17-p0.it+FX+917'},     # Truco para pasar la verificación de cookies\n",
    "                    \n",
    "                    response = requests.get(url, \n",
    "                                            headers=my_headers,\n",
    "                                           )\n",
    "                    \n",
    "                    \n",
    "                    soup = BeautifulSoup(response.content, 'html.parser')\n",
    "                    filter_a = soup.find_all('a')\n",
    "                    links = [link.get('href') for link in filter_a]\n",
    "                    links_filtered = [link for link in links if link != None and 'https://finance.yahoo.com/news/' in link]\n",
    "                    print(links)\n",
    "                    # Filtro links de YF y limpio \n",
    "                    for link in links_filtered:\n",
    "                        link = re.search(r'https://(.*?).html',link).group()\n",
    "                        yf_links.append((ticker,date,link))\n",
    "               \n",
    "                    \n",
    "            except (requests.exceptions.HTTPError, requests.exceptions.RequestException) as e:\n",
    "                print(f'Error: {e},{url}')\n",
    "                \n",
    "            time.sleep(np.random.uniform(low=4,high=7.3))\n",
    "            \n",
    "    return yf_links"
   ]
  },
  {
   "cell_type": "code",
   "execution_count": null,
   "id": "bed78061",
   "metadata": {
    "scrolled": false
   },
   "outputs": [],
   "source": [
    "#'aapl'\n",
    "\n",
    "aapl = google_news_crawling(tickers=['aapl'])\n",
    "aapl_df = pd.DataFrame(aapl,columns=['ticker','date','link'])\n",
    "aapl_df.to_csv('data/aapl.csv')\n",
    "print('Ok!')\n",
    "\n",
    "amzn = google_news_crawling(tickers=['amzn'])\n",
    "amzn_df = pd.DataFrame(amzn,columns=['ticker','date','link'])\n",
    "amzn_df.to_csv('data/amzn.csv')\n",
    "print('Ok!')\n",
    "\n",
    "goog = google_news_crawling(tickers=['goog'])\n",
    "goog_df = pd.DataFrame(goog,columns=['ticker','date','link'])\n",
    "goog_df.to_csv('data/goog.csv')\n",
    "print('Ok!')\n",
    "\n",
    "tsla = google_news_crawling(tickers=['tsla'])\n",
    "tsla_df = pd.DataFrame(tsla,columns=['ticker','date','link'])\n",
    "tsla_df.to_csv('data/tsla.csv')\n",
    "print('Ok!')\n",
    "\n",
    "jnj = google_news_crawling(tickers=['jnj'])\n",
    "jnj_df = pd.DataFrame(jnj,columns=['ticker','date','link'])\n",
    "jnj_df.to_csv('data/aapl.csv')\n",
    "print('Ok!')\n",
    "\n",
    "btc = google_news_crawling(tickers=['btc'])\n",
    "btc_df = pd.DataFrame(btc,columns=['ticker','date','link'])\n",
    "btc_df.to_csv('data/amzn_goog.csv')\n",
    "print('Ok!')\n"
   ]
  },
  {
   "cell_type": "code",
   "execution_count": null,
   "id": "e555fdbe",
   "metadata": {
    "scrolled": true
   },
   "outputs": [],
   "source": [
    "from itertools import cycle\n",
    "import traceback\n",
    "    \n",
    "def get_proxies():\n",
    "    url = 'https://free-proxy-list.net/'\n",
    "    response = requests.get(url)\n",
    "    parser = fromstring(response.text)\n",
    "    proxies = set()\n",
    "    for i in parser.xpath('//tbody/tr')[:2000]:\n",
    "        if i.xpath('.//td[7][contains(text(),\"yes\")]'):\n",
    "            proxy = \":\".join([i.xpath('.//td[1]/text()')[0], i.xpath('.//td[2]/text()')[0]])\n",
    "            proxies.add(proxy)\n",
    "    return list(proxies)\n",
    "\n",
    "get_proxies()\n"
   ]
  },
  {
   "cell_type": "code",
   "execution_count": null,
   "id": "0f2ba0c2",
   "metadata": {},
   "outputs": [],
   "source": [
    "#tsla_aapl_df.to_csv('data/tsla.csv')"
   ]
  },
  {
   "cell_type": "code",
   "execution_count": null,
   "id": "82d1dfed",
   "metadata": {},
   "outputs": [],
   "source": [
    "To get a text that starts with ‘https://finance.yahoo.com/’ and ends with ‘.html’, you can use a regular expression (regex) in Python. A regex is a sequence of characters that defines a search pattern for text1.\n",
    "\n",
    "One possible regex for your task is:\n",
    "\n",
    "r'^https://finance.yahoo.com/.*\\.html$'\n",
    "\n",
    "This regex means:\n",
    "\n"
   ]
  },
  {
   "cell_type": "code",
   "execution_count": null,
   "id": "4498869b",
   "metadata": {},
   "outputs": [],
   "source": [
    "proxies = get_proxies()\n",
    "proxies\n",
    "#rand_proxy= random.choice(proxies)"
   ]
  },
  {
   "cell_type": "code",
   "execution_count": null,
   "id": "c89a84f4",
   "metadata": {},
   "outputs": [],
   "source": [
    "#from email.header import Header\n",
    "#from wsgiref import headers\n",
    "from torpy.http.requests import TorRequests\n",
    "import requests\n",
    "import urllib3\n",
    "urllib3.disable_warnings(urllib3.exceptions.InsecureRequestWarning)\n",
    "import random\n",
    "\n",
    "\n",
    "# https://developers.whatismybrowser.com/useragents/explore/operating_system_name/linux/\n",
    "# https://developers.whatismybrowser.com/useragents/explore/operating_system_name/mac-os-x/\n",
    "AGENT_LIST = [\n",
    "    \"Mozilla/5.0 (X11; Linux x86_64) AppleWebKit/537.36 (KHTML, like Gecko) Chrome/44.0.2403.157 Safari/537.36\",\n",
    "    \"Mozilla/5.0 (X11; Ubuntu; Linux i686; rv:24.0) Gecko/20100101 Firefox/24.0\",\n",
    "    \"Mozilla/5.0 (X11; Linux x86_64) AppleWebKit/537.36 (KHTML, like Gecko) HeadlessChrome/91.0.4472.114 Safari/537.36\",\n",
    "    \"Mozilla/5.0 (Macintosh; Intel Mac OS X 10_15_5) AppleWebKit/605.1.15 (KHTML, like Gecko) Version/13.1.1 Safari/605.1.15\",\n",
    "    \"Mozilla/5.0 (Windows NT 10.0; Win64; x64; rv:77.0) Gecko/20100101 Firefox/77.0\",\n",
    "    \"Mozilla/5.0 (Macintosh; Intel Mac OS X 10_15_5) AppleWebKit/537.36 (KHTML, like Gecko) Chrome/83.0.4103.97 Safari/537.36\",\n",
    "    \"Mozilla/5.0 (Macintosh; Intel Mac OS X 10.15; rv:77.0) Gecko/20100101 Firefox/77.0\",\n",
    "    \"Mozilla/5.0 (X11; Linux x86_64) AppleWebKit/537.36 (KHTML, like Gecko) HeadlessChrome/78.0.3904.70 Safari/537.36\",\n",
    "    \"Mozilla/5.0 (X11; Linux i586; rv:31.0) Gecko/20100101 Firefox/31.0\",\n",
    "    \"Mozilla/5.0 (Windows NT 10.0; Win64; x64) AppleWebKit/537.36 (KHTML, like Gecko) Chrome/83.0.4103.97 Safari/537.36\",\n",
    "]\n",
    "\n",
    "\n",
    "def send_request(url, HEADERS):\n",
    "    with TorRequests() as tor_requests:\n",
    "        with tor_requests.get_session() as sess:\n",
    "            # print the IP address of the proxy\n",
    "            print(sess.get(\"http://httpbin.org/ip\").json())\n",
    "            html_content = sess.get(url, headers=HEADERS, timeout=10).text\n",
    "            soup = BeautifulSoup(html_content.content, 'html.parser')\n",
    "            filter_a = soup.find_all('a')\n",
    "            links = [link.get('href') for link in filter_a]\n",
    "            \n",
    "            # Filtro links de YF y limpio \n",
    "            yf_links = []\n",
    "            print(HEADERS[\"User-Agent\"])\n",
    "\n",
    "def google_news_crawling(website='yahoo+finance', tickers=[]):\n",
    "    start_date= (datetime.now() - relativedelta(years=5)).date()\n",
    "    if __name__ == \"__main__\":\n",
    "        \n",
    "        # put some random urls\n",
    "        urls = google_news_urls_by_date(website=website,\n",
    "                                        ticker=tickers,\n",
    "                                        start_date= start_date)\n",
    "    \n",
    "        for date,link in urls:\n",
    "            HEADERS = {\"User-Agent\": random.choice(AGENT_LIST)}\n",
    "            try:\n",
    "                send_request(link, HEADERS)\n",
    "            except Exception as e:\n",
    "                print(e)\n",
    "                pass\n",
    "    "
   ]
  },
  {
   "cell_type": "code",
   "execution_count": null,
   "id": "460096bd",
   "metadata": {},
   "outputs": [],
   "source": []
  },
  {
   "cell_type": "code",
   "execution_count": null,
   "id": "e77d9ad4",
   "metadata": {},
   "outputs": [],
   "source": [
    "url = 'https://finance.yahoo.com/news/wild-theory-price-bitcoin-being-110000608.html'\n",
    "\n",
    "#Extracción artículo \n",
    "\n",
    "try:\n",
    "    with requests.get(url,cookies=cookies) as response:\n",
    "        soup = BeautifulSoup(response.text, 'html.parser')\n",
    "        paragraph_texts = [p.text for p in soup.find_all('p')]\n",
    "        clean_text = ' '.join(paragraph_texts)\n",
    "        exclude = [' Click here for the latest stock market news and in-depth analysis, including events that move stocks Read the latest financial and business news from Yahoo Finance Download the Yahoo Finance app for Apple or Android Follow Yahoo Finance on Twitter, Facebook, Instagram, Flipboard, LinkedIn, and YouTube Related Quotes','Join the most important conversation in crypto and web3! Secure your seat today ','Related Quotes','For the latest earnings reports and analysis, earnings whispers and expectations, and company earnings news, click here Read the latest financial and business news from Yahoo Finance Download the Yahoo Finance app for Apple or Android Follow Yahoo Finance on Twitter, Facebook, Instagram, Flipboard, LinkedIn, and YouTube']\n",
    "        for text in exclude:\n",
    "            clean_text = clean_text.replace(text,'')\n",
    "except (requests.exceptions.HTTPError, requests.exceptions.RequestException) as e:\n",
    "    #Excluir /video/\n",
    "    print(f'Error: {e},{url}')\n"
   ]
  },
  {
   "cell_type": "code",
   "execution_count": null,
   "id": "887791d0",
   "metadata": {},
   "outputs": [],
   "source": [
    "clean_text"
   ]
  },
  {
   "cell_type": "code",
   "execution_count": null,
   "id": "8253832f",
   "metadata": {},
   "outputs": [],
   "source": [
    "links_5_years_df = pd.DataFrame(links_5_years,columns=['ticker','date','link'])\n",
    "links_5_years_df"
   ]
  },
  {
   "cell_type": "code",
   "execution_count": null,
   "id": "4d37cddc",
   "metadata": {},
   "outputs": [],
   "source": [
    "links_5_years"
   ]
  },
  {
   "cell_type": "code",
   "execution_count": null,
   "id": "fe68e3b0",
   "metadata": {},
   "outputs": [],
   "source": []
  }
 ],
 "metadata": {
  "kernelspec": {
   "display_name": "Python 3 (ipykernel)",
   "language": "python",
   "name": "python3"
  },
  "language_info": {
   "codemirror_mode": {
    "name": "ipython",
    "version": 3
   },
   "file_extension": ".py",
   "mimetype": "text/x-python",
   "name": "python",
   "nbconvert_exporter": "python",
   "pygments_lexer": "ipython3",
   "version": "3.10.9"
  },
  "vscode": {
   "interpreter": {
    "hash": "ad2bdc8ecc057115af97d19610ffacc2b4e99fae6737bb82f5d7fb13d2f2c186"
   }
  }
 },
 "nbformat": 4,
 "nbformat_minor": 5
}
