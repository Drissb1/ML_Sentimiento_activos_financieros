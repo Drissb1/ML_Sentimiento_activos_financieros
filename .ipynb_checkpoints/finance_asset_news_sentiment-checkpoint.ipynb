{
 "cells": [
  {
   "cell_type": "code",
   "execution_count": 125,
   "id": "bdefdc77",
   "metadata": {},
   "outputs": [],
   "source": [
    "import requests\n",
    "from bs4 import BeautifulSoup\n",
    "from transformers import AutoConfig,pipeline,PegasusTokenizer, TFPegasusForConditionalGeneration, BertTokenizer, TFBertModel, AutoTokenizer,AutoModelForSequenceClassification\n",
    "import pandas as pd\n",
    "import numpy as np\n",
    "import regex as re\n",
    "import googletrans\n",
    "from googletrans import Translator\n",
    "from google_trans_new import google_translator\n",
    "from deep_translator import GoogleTranslator\n",
    "\n",
    "import numpy as np\n",
    "from scipy.special import softmax\n",
    "\n",
    "import spacy\n",
    "import pytextrank"
   ]
  },
  {
   "cell_type": "markdown",
   "id": "caa7804f",
   "metadata": {},
   "source": [
    "La idea es poder scrapear artículos del día y activo financiero de nuestra elección (empezando por los de Yahoo Finance), y conseguir un resúmen en una frase y traducido al español de cada artículo. Además obtener una puntuación del día para el \"sentimiento\" hacia el activo. Y si da la capacidad computacional, poder scrapear los datos de varios activos, procesarlos y meterlos un DF; luego graficar ese sentimiento a lo largo del tiempo y usarlo como feature para análisis y/o predicción.</br></br>\n",
    "\n",
    "HuggingFace (librería **transformers**) es una plataforma colaborativa de modelos NLP preentrenados para toda clase de nichos, importo uno entrenado en Pegasus para resumir artículos financieros en una frase. </br>\n",
    "**Pegasus** es un modelo de NLP desarrollado por Google para generar resúmenes con mucha calidad. El inconveniente es que pierde accuracy exponencialmente al trabajar con textos largos como input(400 palabras ~ o 512 tokens), y es bastante lento.</br>\n",
    "Pegasus : https://ai.googleblog.com/2020/06/pegasus-state-of-art-model-for.html</br>\n",
    "Transformers : https://huggingface.co/human-centered-summarization/financial-summarization-pegasus </br></br>\n",
    "\n",
    "Para solucionar éste problema pasaré primero los textos por SpaCy (otra librería NLP) con 'textrank', un método extractivo que extrae los componentes más importantes del texto **sin cambiar las palabras**. Además, es muy eficiente a nivel computacional, por lo que Pegasus podrá trabajar con menos texto.</br>\n",
    "Conseguimos así un resultado superior que con cada modelo por separado.</br>\n",
    "https://spacy.io/</br></br>\n",
    "\n",
    "\n",
    "Finalmente, obtengo una puntuación de sentiment para el artículo con BERT, otro modelo de Google, concretamente FinBERT, que viene preentrenado con apuntes de profesionales financieros.</br>https://huggingface.co/yiyanghkust/finbert-tone</br></br>\n",
    "Para traducir, parece que funciona mejor el traductor de Google, la librería **deep_translator** permite evitar lanzar peticiones directamente a la API de Google.</br>\n",
    "\n",
    "### Empiezo ejemplificándolo con un sólo artículo:"
   ]
  },
  {
   "cell_type": "markdown",
   "id": "cfa59007",
   "metadata": {},
   "source": [
    "### Scraping artículo Yahoo Finance"
   ]
  },
  {
   "cell_type": "code",
   "execution_count": 134,
   "id": "5f0099b8",
   "metadata": {},
   "outputs": [
    {
     "data": {
      "text/plain": [
       "\"Back in 2017, John Griffin, a professor of finance at the University of Texas McCombs School of Business, noticed something strange. Griffin follows a totally different beat from typical business school finance profs who explore, say, how business cycles influence commodity prices or Fed policy sways the term structure of interest rates. The 6-foot-2 former high school football star views himself as a crusader for good, a moral sleuth who, as he tells Fortune, “looks to expose financial evil, to shed light on the world and expose dark things in the markets.” After the Great Financial Crisis, Griffin became a devout Christian. He has since dedicated his distinguished career to righteous forensic digging that’s unearthed abuses ranging from insider trading to mortgage fraud to the doctoring of bond ratings during the financial crisis. As Griffin and Amin Shams, then a doctoral candidate at McCombs who’s joined Griffin in several gumshoe investigations, screened for misdeeds in 2017, they were fascinated to see that a little-known token that’s supposed to be backed one-for-one to the dollar was getting printed in large quantities. That clue led the pair to another: When new batches appeared, the price of Bitcoin seemed to jump. It looked like someone, or a group, was using that freshly printed “free money” to inflate Bitcoin’s price for their own profit. He and his coauthor Shams sifted through an incredible 200 gigabytes of trading data, equal to the troves that the Smithsonian Institution collects in two years, and followed sales and purchases from 2.5 million separate wallets. In 2018, they coauthored a groundbreaking study showing that a single, still unidentified, Bitcoin “whale” almost singlehandedly drove the token’s giant run-up in late 2017 and early 2018 by distorting the trading in the token. Toward the end of 2022, another mystifying trend caught Griffin’s eye. Despite the crypto crash and myriad other negative forces, every time Bitcoin briefly breached the $16,000 floor, it bounced above that level and kept stubbornly trading between $16,000 and $17,000. Almost unbelievably, as the crypto market has continued to unravel into 2023, Bitcoin has gone in the opposite direction, trading up 35% since Jan. 7 to $23,000. “It’s very suspicious,” Griffin told Fortune. “The same mechanism we saw in 2017 could be at play now in the still unreal Bitcoin market.” For Griffin, the way normally super-volatile Bitcoin went calm and stable in the stormiest of times for crypto fits a scenario where boosters are uniting to support and juice its price. “If you’re a crypto manipulator, you want to set a floor under the price of your coin,” added Griffin. “In a period of highly negative sentiment, we’ve seen suspiciously solid floors under Bitcoin.” View this interactive chart on Fortune.com It’s important to note that no definitive proof of chicanery has so far emerged. “The space is bigger now so it’s harder to dig the data,” says Griffin. “Sophisticated players may be expert at hiding their identities.” We have seen credible leaks asserting that major market participants call meetings of the sector’s elite when they fear a crypto leader plans to make what they consider a reckless, industry-endangering move. But no evidence has surfaced that the players are gathering to coordinate buying of Bitcoin or other cryptocurrencies. For example it's well known that earlier this fall Changpeng Zhao (known as CZ), chief of Binance, the world’s largest crypto exchange and other crypto crypto leaders believed that Sam Bankman-Fried’s hedge fund Alameda was attacking Tether, the then-wobbling coin whose reliability is crucial to the industry’s well-being, and reportedly encouraged him to stop. (Tether—symbol USDT—by the way, was also at the center of the 2017-18 manipulation exposed by Griffin and Shams.) It's possible that evidence of cozy, clubby practices will come to light in the numerous bankruptcy proceedings, lawsuits, and criminal investigations now pending in the crypto-verse. “Now that SBF is being charged, he’ll turn on the other players and could accuse them of collusion,” predicts Alex de Vries, an economist at the central bank of the Netherlands who runs Digiconomist, a site that tracks Bitcoin’s carbon footprint. The collapse Genesis's lending business has set Barry Silbert, the head of its parent Digital Currency Group, at the throats of Cameron and Tyler Winklevoss, cofounders of floundering exchange Gemini. The brothers claim that DCG owes the $900 million that Gemini’s depositors loaned to a Genesis program that paid high interest rates and threaten to sue DCG and Silbert, whom they accuse of stonewalling and denying DCG's true liability. Put simply, as onetime allies battle in court, the secrecy surrounding trading in concert, if it exists, could well crumble. Griffin is far from the only prominent observer who’s wary of bad behavior. In a blog post on Nov. 30 titled “Bitcoin’s Last Stand,” European Central Bank Director General for market operations Ulrich Bindseil and ECB adviser Jürgen Schaaf dismissed Bitcoin’s resurgence as “an artificially induced last gasp before the road to irrelevance.” Two leading figures on Wall Street told this writer on background that Bitcoin’s price action, by resisting a flood of bad news, looks phony and different from a normal free market ruled by independent buyers and sellers. The leading sign that Bitcoin’s benefiting from coordinated buying: its astoundingly steady performance, forming the base for a takeoff to five-month highs following the FTX debacle that seemed likely to send the mainstay token reeling. From Nov. 5, the day before the FTX reports started spreading, to Nov. 9, Bitcoin (based on closing prices) dropped from $21,300 to $15,900, its lowest reading since late 2020, for a fall of 25%. Then the normally careening coin went, by Bitcoin standards, flat. In the 62 days between Nov. 10 and Jan. 11, it traded in the $16,000s and $17,000s for all but one day. In the 50 days from Nov. 22 to Jan. 11, its closing prices hovered in a narrow band, from a low of $16,200 and a high of $17,900, a difference from bottom to top of 10%. View this interactive chart on Fortune.com This initial period of supersmooth sailing was atypical, to put it mildly. Fortune data editor Scott DeCarlo ran a detailed analysis and found that since the start of 2017, Bitcoin has never fluctuated in any of the 40 consecutive 50-day spans by less than 19%, and varied by over 30% in three out of four seven-week time frames. The median low to high reading was 44%. Hence, Bitcoin at peak FTX-induced turmoil showed both its smallest swings ever by a wide margin, and divergence from low to high that was one-fourth to one-fifth its average over the past six years. Then, from Jan. 12 to 24, Bitcoin began a bizarre upward march. During those two weeks, it rebounded by 28% from $17,935 to $23,000, its best price since August and well above the number when FTX fears began raging. This occurred while the market was digesting the bankruptcies of lender BlockFi on Nov. 28; Core Scientific, one of the largest publicly traded miners, on Dec. 21; and the Genesis lending arm a month later. You’d think that the turmoil surrounding Bitcoin would have shaken the confidence of small investors and institutions alike in crypto, leading to lots of selling pressure and sharply falling prices. Indeed, sentiment on social media turned heavily against Bitcoin following the FTX catastrophe. Reflecting the sinking enthusiasm was a steep retreat in trading activity. At Coinbase, volumes in Q4 were well below Q3 readings, and down 52% from Q1. Could there be alternate explanations for Bitcoin's robust performance? A number of experts who follow crypto trading from day to day see no plot to inflate the prices, but a well-functioning market. “I don’t see a cabal of insiders,” says Andrew Thurman, a researcher at Blockchain analytics provider Nansen. “The price movements in Bitcoin are notoriously cyclical by nature. Often the best explanation is the most boring one. In this case, the price of Bitcoin is rising because there are more buyers than sellers. If anything, fallen players such as Celsius and FTX were selling Bitcoin and pushing down prices to prop up their own coins.” Vetle Lunde, a senior analyst at Norwegian crypto data analysis firm Arcane Research, agrees. “I don’t see a group holding up prices. Now we have a balanced dynamic. The forced selling following the FTX collapse has to some extent been absorbed and we’re seeing no further forced selling,” a phenomenon that’s aided Bitcoin’s recent rebound to over $23,000. But there's no question that Bitcoin's post-FTX sturdiness, capped by its new jump, is a gigantic gift to the enterprises whose fortunes wax and wane with Bitcoin’s price. The stocks for exchanges, miners, and lenders all took a big leg down in the days after meltdown. But since hitting two-year lows in December,\\xa0miners Riot, Marathon, and Bitfarms have jumped 92%, 150%, and 189% respectively as of Jan. 27. Coinbase, one of the world’s largest exchanges, has advanced 85% from its pre–New Year’s trough, adding $7 billion in market cap. Riot, Bitfarms have all rebounded to near their plateaus just prior to the FTX disaster. One of the players most desperate for a boost got a big one. At MicroStrategy, cofounder and executive chairman Michael Saylor loaded his hybrid software provider and Bitcoin speculator with $2.4 billion in debt to buy coins, and when prices fell below $16,000 on Nov. 11, owed far more on his loans than the value of his cache of tokens. If Bitcoin kept dropping, MicroStrategy was heading for big trouble. But Bitcoin’s resurgence has lifted MicroStrategy’s holdings out of the red and sent its stock price from $166 in mid-November to $258 on Jan. 27, a gain of 55%. Crypto operates on a narrower edge than virtually any other financial sector. The factor that determines whether the big crypto players mint profits or tumble into bankruptcy is the price of Bitcoin, the benchmark that in turn leads the prices for other coins. Much of the crypto world has already shattered. But a lot more stalwarts were due to go down unless Bitcoin found a decent foundation after the FTX downfall shook that slender edge. The Griffin-Shams study of the forces behind the 2017–18 Bitcoin bubble provides a guide to the strategies that could be pressing a thumb on the sales post-FTX. Griffin and Shams, now a professor at Ohio State’s Fisher College of Business, first published their 118-page report in 2018, and it appeared two years later in the prestigious, peer-reviewed Journal of Finance. For the team, a tipoff for possible manipulation was that Bitfinex, the large exchange closely related to Tether, wasn’t providing much transparency about the supposed stablecoin. “We saw blogs speculating that Bitfinex wasn’t providing full backing for the coin,” recalls Griffin. “If someone’s printing money by printing Tether that’s unbacked by fiat currency, it could cause a bubble in Bitcoin,” he says. “That was the hypothesis.” Griffin and Shams found that two practices converged to spur those huge, sudden gains. The first: a flood of newly created coins that gave the fraudster the currency to goose Bitcoin. The second is the approach that’s most relevant today, in which the manipulator or manipulators agree that every time the price drops to a target level, they’ll jump in to push it well above that benchmark. The pair saw a strong and questionable pattern in Bitcoin prices. Bitcoin had its biggest spikes when two things happened: Prices started dropping, and lot of Tether was being printed. Then, as now, Tether was the most important “stablecoin,” or cryptocurrency supposedly supported one-to-one by reserves in fiat currency. Tether’s effectively a stand-in for the dollar; each coin is supposed to be backed by the equivalent of one greenback in fiat currency. Tether is issued by an arm of iFinex, a Hong Kong company that also owns what was then the world’s largest exchange, Bitfinex. The authors focused on the 1% of all one-hour intervals between the beginning of March 2017 and end of March 2018 that featured the largest combinations of large Tether issuance on Bitfinex, and big Bitcoin buys on two other exchanges, Bittrex and Poloniex. Just before the start of each period, Bitcoin prices were under pressure. But in each case, it appeared that a single huge buyer rode to the rescue, pushing the token sharply higher by the end of the 60-minute interlude. The “whale,” whose identity remains a mystery, was using Tether to buy Bitcoin and hike its price. “We saw a regular pattern of very sizable price reversals,” recalls Shams. The 95 one-hour spans that witnessed those big Tether and Bitcoin inflows accounted for nearly 60% of Bitcoin’s immense gains over those 13 months. “Tether is used as cash to trade Bitcoin and other cryptocurrencies,” notes Shams. Although the market cap of Tether is a fraction of Bitcoin’s, Tether’s trading volumes are higher. Given its importance in trading, the printing of Tether without backing creates “new money” the way the Fed does when it prints excess quantities of dollars. “The issuing of Tether without backing inflated the amount of currency chasing the same supply of Bitcoin,” Griffin told Fortune. “The Tether created from thin air was inflating the price of Bitcoin and other cryptocurrencies.” Once the whale obtained the newly minted Tether, it traded the coins for big quantities of Bitcoin on Bittrex and Poloniex. Those large buys reversed the downward trend in Bitcoin and boosted its price well above its level before the dip began. “This player either showed clairvoyant market timing or exerted an extremely large effect on Bitcoin’s price,”\\xa0states the study. Today, it’s clear that Tether wasn’t holding full reserves behind the coins in this Bitcoin boom period, so that “it’s almost mechanical that money from nowhere would boost the price,” notes Griffin. After the paper appeared, Tether Ltd. insisted that its conclusions were flawed and maintained that Tether couldn’t be used to balloon Bitcoin prices. But a Commodity Futures Trading Commission investigation found otherwise. In October 2021, the CFTC won a $41 million settlement from Tether and its owners for failing to back its coins with dollars as advertised. The CFTC found that “Tether held sufficient reserves to back…tokens in circulation only 27.6% of the time in the 26-month sample from 2016 through 2018” and “comingled reserve funds with Bitfinex’s operational and customer funds.” Says Griffin, “Bitcoin and Tether aren’t used for buying things like cars and pizzas, they’re used for buying other coins. So in that closed system, a relatively small amount of manipulated buying, spurred by creating new coins from nothing, can cause an outsize increase in the Bitcoin price.” The authors also found that the sizable purchases frequently happened when Bitcoin’s price reached certain thresholds, just below multiples of $500. “We saw far more purchases at those benchmarks,” says Griffin. “The whale kept establishing price floors, and those floors kept rising. It wasn’t a club. It was one entity. But when the whale held the price at the thresholds, that made it look as if Bitcoin was safe at those floors. That made it look safe for funds and small customers to buy Bitcoin, driving the price still higher.” Adds Shams, “Around round number price levels of Bitcoin, we saw activities consistent with creating price supports.” Griffin suspects that a similar dynamic is operating today. He says that collusion to prop up Bitcoin would mean that a clique of buyers agrees to purchase together when the price nears a floor. Let’s say that trigger is $16,000, a figure Bitcoin almost always remained just above during its time of extreme stability. If Bitcoin experiences heavy sales threatening to drive its price below $16,000, in our example, the whale club enters en masse. “That $16,000, for example, could serve as a coordinating mechanism,” says Griffin. The manipulators could drive the price up to near $17,000, then sell part of their winnings in many small trades that don’t move the market. They could pocket big profits just letting the price bounce back and forth in the tunnel between $16,000 and $17,000. Growing confidence that Bitcoin won’t breach $16,000 would encourage more speculators to join in the buying. Then the group can agree to set a new floor at $18,000. “In crypto, a group of manipulators can push Bitcoin to higher floors unless a big party moves against them,” says Griffin. But it’s much harder to short Bitcoin than to short stocks or bonds. We aren’t seeing evidence of another group moving to drive down the price, giving a stronger hand to any possible club of bulls. “Most of the players in the space have a strong incentive to maintain a price floor,” says Griffin. In conclusion, Griffin says, the Griffin-Shams study showed concrete proof of manipulation in 2017 and 2018, and that a single individual did the rigging. “We don’t have concrete analysis this time,” he says. “The truth may emerge in specific stories, if there is collusion.” The lesson, he says, “is that the Bitcoin market remains highly vulnerable to manipulation.” Indeed, Bitcoin in the wake of the FTX debacle has registered a wondrous performance. Maybe too wondrous to be trusted. This story was originally featured on Fortune.com More from Fortune: Olympic legend Usain Bolt lost $12 million in savings to a scam. Only $12,000 remains in his accountMeghan Markle’s real sin that the British public can’t forgive–and Americans can’t understand‘It just doesn’t work.’ The world’s best restaurant is shutting down as its owner calls the modern fine dining model ‘unsustainable’Bob Iger just put his foot down and told Disney employees to come back into the office\""
      ]
     },
     "execution_count": 134,
     "metadata": {},
     "output_type": "execute_result"
    }
   ],
   "source": [
    "url = 'https://finance.yahoo.com/news/wild-theory-price-bitcoin-being-110000608.html'\n",
    "\n",
    "#Extracción artículo \n",
    "\n",
    "try:\n",
    "    with requests.get(url) as response:\n",
    "        response.raise_for_status()\n",
    "        soup = BeautifulSoup(response.text, 'html.parser')\n",
    "        paragraph_texts = [p.text for p in soup.find_all('p')]\n",
    "        clean_text = ' '.join(paragraph_texts)\n",
    "        exclude = [' Click here for the latest stock market news and in-depth analysis, including events that move stocks Read the latest financial and business news from Yahoo Finance Download the Yahoo Finance app for Apple or Android Follow Yahoo Finance on Twitter, Facebook, Instagram, Flipboard, LinkedIn, and YouTube Related Quotes','Join the most important conversation in crypto and web3! Secure your seat today ','Related Quotes','For the latest earnings reports and analysis, earnings whispers and expectations, and company earnings news, click here Read the latest financial and business news from Yahoo Finance Download the Yahoo Finance app for Apple or Android Follow Yahoo Finance on Twitter, Facebook, Instagram, Flipboard, LinkedIn, and YouTube']\n",
    "        for text in exclude:\n",
    "            clean_text = clean_text.replace(text,'')\n",
    "except (requests.exceptions.HTTPError, requests.exceptions.RequestException) as e:\n",
    "    #Excluir /video/\n",
    "    print(f'Error: {e},{url}')\n",
    "    \n",
    "\n",
    "clean_text"
   ]
  },
  {
   "cell_type": "markdown",
   "id": "8ce18765",
   "metadata": {},
   "source": [
    "### SpaCy - Resumen extractivo"
   ]
  },
  {
   "cell_type": "code",
   "execution_count": 135,
   "id": "4ed5a3ec",
   "metadata": {},
   "outputs": [
    {
     "name": "stdout",
     "output_type": "stream",
     "text": [
      "The pair saw a strong and questionable pattern in Bitcoin prices.\n",
      "Just before the start of each period, Bitcoin prices were under pressure.\n",
      "After the paper appeared, Tether Ltd. insisted that its conclusions were flawed and maintained that Tether couldn’t be used to balloon Bitcoin prices.\n",
      "The authors focused on the 1% of all one-hour intervals between the beginning of March 2017 and end of March 2018 that featured the largest combinations of large Tether issuance on Bitfinex, and big Bitcoin buys on two other exchanges, Bittrex and Poloniex.\n",
      "But it’s much harder to short Bitcoin than to short stocks or bonds.\n",
      "If anything, fallen players such as Celsius and FTX were selling Bitcoin and pushing down prices to prop up their own coins.”\n",
      "At MicroStrategy, cofounder and executive chairman Michael Saylor loaded his hybrid software provider and Bitcoin speculator with $2.4 billion in debt to buy coins, and when prices fell below $16,000 on Nov. 11, owed far more on his loans than the value of his cache of tokens.\n",
      "Bitcoin had its biggest spikes when two things happened: Prices started dropping, and lot of Tether was being printed.\n",
      "From Nov. 5, the day before the FTX reports started spreading, to Nov. 9, Bitcoin (based on closing prices) dropped from $21,300 to $15,900, its lowest reading since late 2020, for a fall of 25%.\n",
      "Adds Shams, “Around round number price levels of Bitcoin, we saw activities consistent with creating price supports.”\n",
      "For Griffin, the way normally super-volatile Bitcoin went calm and stable in the stormiest of times for crypto fits a scenario where boosters are uniting to support and juice its price.\n",
      "That clue led the pair to another: When new batches appeared, the price of Bitcoin seemed to jump.\n",
      "It looked like someone, or a group, was using that freshly printed “free money” to inflate Bitcoin’s price for their own profit.\n"
     ]
    }
   ],
   "source": [
    "# python -m spacy download en_core_web_sm\n",
    "nlp = spacy.load('en_core_web_sm') \n",
    "nlp.add_pipe('textrank') #Cargamos el modelo, textrank=extractive\n",
    "doc = nlp(clean_text)\n",
    "spacy_summary = ' '.join([str(sentence) for sentence in doc._.textrank.summary(limit_sentences=12)])\n",
    "# Primer resumen, puede ser una opción obtenerlo\n",
    "for sentence in doc._.textrank.summary(limit_sentences=13):\n",
    "    print(sentence)"
   ]
  },
  {
   "cell_type": "markdown",
   "id": "0cdcb9b3",
   "metadata": {},
   "source": [
    "### Pegasus para resumir en una frase"
   ]
  },
  {
   "cell_type": "code",
   "execution_count": 158,
   "id": "89de1990",
   "metadata": {},
   "outputs": [
    {
     "name": "stderr",
     "output_type": "stream",
     "text": [
      "All model checkpoint layers were used when initializing TFPegasusForConditionalGeneration.\n",
      "\n",
      "Some layers of TFPegasusForConditionalGeneration were not initialized from the model checkpoint at human-centered-summarization/financial-summarization-pegasus and are newly initialized: ['final_logits_bias']\n",
      "You should probably TRAIN this model on a down-stream task to be able to use it for predictions and inference.\n"
     ]
    }
   ],
   "source": [
    "model_name = \"human-centered-summarization/financial-summarization-pegasus\"\n",
    "tokenizer = PegasusTokenizer.from_pretrained(model_name)\n",
    "model = TFPegasusForConditionalGeneration.from_pretrained(model_name)\n",
    "input_ids = tokenizer(spacy_summary, return_tensors = 'tf').input_ids\n",
    "\n",
    "output = model.generate(\n",
    "    input_ids,\n",
    "    max_length=35,\n",
    "    num_beams=5,\n",
    "    early_stopping=True\n",
    ")"
   ]
  },
  {
   "cell_type": "code",
   "execution_count": 159,
   "id": "87587e93",
   "metadata": {},
   "outputs": [
    {
     "data": {
      "text/plain": [
       "'MicroStrategy and CoinStrategy published paper on Bitcoin. Bitcoin prices were under pressure just before start of each period'"
      ]
     },
     "execution_count": 159,
     "metadata": {},
     "output_type": "execute_result"
    }
   ],
   "source": [
    "summarized = tokenizer.decode(output[0], skip_special_tokens=True)\n",
    "summarized"
   ]
  },
  {
   "cell_type": "code",
   "execution_count": 157,
   "id": "240e1f78",
   "metadata": {},
   "outputs": [
    {
     "ename": "ImportError",
     "evalue": "cannot import name 'PegasusDecoder' from 'transformers' (C:\\ProgramData\\Anaconda3\\lib\\site-packages\\transformers\\__init__.py)",
     "output_type": "error",
     "traceback": [
      "\u001b[1;31m---------------------------------------------------------------------------\u001b[0m",
      "\u001b[1;31mImportError\u001b[0m                               Traceback (most recent call last)",
      "\u001b[1;32m~\\AppData\\Local\\Temp\\ipykernel_15608\\2504868828.py\u001b[0m in \u001b[0;36m<module>\u001b[1;34m\u001b[0m\n\u001b[1;32m----> 1\u001b[1;33m \u001b[1;32mfrom\u001b[0m \u001b[0mtransformers\u001b[0m \u001b[1;32mimport\u001b[0m \u001b[0mPegasusDecoder\u001b[0m\u001b[1;33m\u001b[0m\u001b[1;33m\u001b[0m\u001b[0m\n\u001b[0m\u001b[0;32m      2\u001b[0m \u001b[1;33m\u001b[0m\u001b[0m\n\u001b[0;32m      3\u001b[0m \u001b[0mdecoder\u001b[0m \u001b[1;33m=\u001b[0m \u001b[0mTFPegasusDecoder\u001b[0m\u001b[1;33m(\u001b[0m\u001b[0mmodel\u001b[0m\u001b[1;33m.\u001b[0m\u001b[0mconfig\u001b[0m\u001b[1;33m,\u001b[0m \u001b[0mmodel\u001b[0m\u001b[1;33m.\u001b[0m\u001b[0mget_input_embeddings\u001b[0m\u001b[1;33m(\u001b[0m\u001b[1;33m)\u001b[0m\u001b[1;33m,\u001b[0m \u001b[0mmodel\u001b[0m\u001b[1;33m.\u001b[0m\u001b[0mget_decoder\u001b[0m\u001b[1;33m(\u001b[0m\u001b[1;33m)\u001b[0m\u001b[1;33m)\u001b[0m\u001b[1;33m\u001b[0m\u001b[1;33m\u001b[0m\u001b[0m\n\u001b[0;32m      4\u001b[0m \u001b[0moutput\u001b[0m \u001b[1;33m=\u001b[0m \u001b[0mdecoder\u001b[0m\u001b[1;33m.\u001b[0m\u001b[0mgenerate\u001b[0m\u001b[1;33m(\u001b[0m\u001b[0minput_ids\u001b[0m\u001b[1;33m,\u001b[0m \u001b[0mmax_length\u001b[0m\u001b[1;33m=\u001b[0m\u001b[1;36m35\u001b[0m\u001b[1;33m,\u001b[0m \u001b[0mstrategy\u001b[0m\u001b[1;33m=\u001b[0m\u001b[1;34m'sampling'\u001b[0m\u001b[1;33m,\u001b[0m \u001b[0mtemperature\u001b[0m\u001b[1;33m=\u001b[0m\u001b[1;36m0.7\u001b[0m\u001b[1;33m)\u001b[0m\u001b[1;33m\u001b[0m\u001b[1;33m\u001b[0m\u001b[0m\n",
      "\u001b[1;31mImportError\u001b[0m: cannot import name 'PegasusDecoder' from 'transformers' (C:\\ProgramData\\Anaconda3\\lib\\site-packages\\transformers\\__init__.py)"
     ]
    }
   ],
   "source": [
    "from transformers import PegasusDecoder\n",
    "\n",
    "decoder = TFPegasusDecoder(model.config, model.get_input_embeddings(), model.get_decoder())\n",
    "output = decoder.generate(input_ids, max_length=35, strategy='sampling', temperature=0.7)"
   ]
  },
  {
   "cell_type": "markdown",
   "id": "054909fd",
   "metadata": {},
   "source": [
    "## Modelo basado en BERT (Financial BERT)"
   ]
  },
  {
   "cell_type": "code",
   "execution_count": 143,
   "id": "c03cbd39",
   "metadata": {},
   "outputs": [],
   "source": [
    "from transformers import BertTokenizer, BertForSequenceClassification\n",
    "from transformers import pipeline\n",
    "\n",
    "finbert = BertForSequenceClassification.from_pretrained('yiyanghkust/finbert-tone',num_labels=3)\n",
    "tokenizer = BertTokenizer.from_pretrained('yiyanghkust/finbert-tone')\n",
    "\n",
    "nlp = pipeline(\"sentiment-analysis\", model=finbert, tokenizer=tokenizer)\n",
    "\n",
    "sentences = [summarized,'Analysts expect slower earnings, iPhone sales throughout 2020.']\n",
    "results = nlp(sentences)"
   ]
  },
  {
   "cell_type": "code",
   "execution_count": 144,
   "id": "79aee0b4",
   "metadata": {},
   "outputs": [
    {
     "data": {
      "text/plain": [
       "[{'label': 'Negative', 'score': 0.9999768733978271},\n",
       " {'label': 'Negative', 'score': 0.9999984502792358},\n",
       " {'label': 'Neutral', 'score': 0.62992924451828}]"
      ]
     },
     "execution_count": 144,
     "metadata": {},
     "output_type": "execute_result"
    }
   ],
   "source": [
    "results"
   ]
  },
  {
   "cell_type": "markdown",
   "id": "e09f7116",
   "metadata": {},
   "source": [
    "#### Tras probar con varias librerías de ML, parece que el mejor traductor es Google"
   ]
  },
  {
   "cell_type": "code",
   "execution_count": 145,
   "id": "e48193f6",
   "metadata": {},
   "outputs": [
    {
     "data": {
      "text/plain": [
       "'MicroStrategy y CoinStrategy publicaron un artículo sobre Bitcoin. Los precios de Bitcoin estaban bajo presión justo antes del comienzo de cada período'"
      ]
     },
     "execution_count": 145,
     "metadata": {},
     "output_type": "execute_result"
    }
   ],
   "source": [
    "GoogleTranslator('en','spanish').translate(text=summarized)"
   ]
  },
  {
   "cell_type": "code",
   "execution_count": null,
   "id": "b7c7f210",
   "metadata": {},
   "outputs": [],
   "source": []
  }
 ],
 "metadata": {
  "kernelspec": {
   "display_name": "Python 3 (ipykernel)",
   "language": "python",
   "name": "python3"
  },
  "language_info": {
   "codemirror_mode": {
    "name": "ipython",
    "version": 3
   },
   "file_extension": ".py",
   "mimetype": "text/x-python",
   "name": "python",
   "nbconvert_exporter": "python",
   "pygments_lexer": "ipython3",
   "version": "3.9.13"
  },
  "vscode": {
   "interpreter": {
    "hash": "ad2bdc8ecc057115af97d19610ffacc2b4e99fae6737bb82f5d7fb13d2f2c186"
   }
  }
 },
 "nbformat": 4,
 "nbformat_minor": 5
}
